{
  "nbformat": 4,
  "nbformat_minor": 0,
  "metadata": {
    "colab": {
      "name": "numpy-array-practice1.ipynb",
      "provenance": []
    },
    "kernelspec": {
      "name": "python3",
      "display_name": "Python 3"
    }
  },
  "cells": [
    {
      "cell_type": "markdown",
      "metadata": {
        "id": "AGcz1aglcOfj",
        "colab_type": "text"
      },
      "source": [
        "Write a NumPy program to get the numpy version and show numpy build configuration"
      ]
    },
    {
      "cell_type": "code",
      "metadata": {
        "id": "i8WgCVP8cLSk",
        "colab_type": "code",
        "colab": {}
      },
      "source": [
        "import pandas as pd\n",
        "import numpy as np"
      ],
      "execution_count": 0,
      "outputs": []
    },
    {
      "cell_type": "markdown",
      "metadata": {
        "id": "AY8asAFfKvEz",
        "colab_type": "text"
      },
      "source": [
        "Write a NumPy program to convert a list of numeric value into a one-dimensional NumPy array."
      ]
    },
    {
      "cell_type": "code",
      "metadata": {
        "id": "_A8fVzEZKvfS",
        "colab_type": "code",
        "colab": {
          "base_uri": "https://localhost:8080/",
          "height": 34
        },
        "outputId": "493c3cb0-378b-44e9-fffc-b61a697ab066"
      },
      "source": [
        "l = [12.23, 13.32, 100, 36.32]\n",
        "a = np.array(l)\n",
        "a"
      ],
      "execution_count": 2,
      "outputs": [
        {
          "output_type": "execute_result",
          "data": {
            "text/plain": [
              "array([ 12.23,  13.32, 100.  ,  36.32])"
            ]
          },
          "metadata": {
            "tags": []
          },
          "execution_count": 2
        }
      ]
    },
    {
      "cell_type": "markdown",
      "metadata": {
        "id": "Z8PhpysRK4E2",
        "colab_type": "text"
      },
      "source": [
        "Write a NumPy program to create a 3x3 matrix with values ranging from 2 to 10."
      ]
    },
    {
      "cell_type": "code",
      "metadata": {
        "id": "fjt_hmP4K1db",
        "colab_type": "code",
        "colab": {
          "base_uri": "https://localhost:8080/",
          "height": 70
        },
        "outputId": "93dfe335-5afd-48da-a834-4404dfbcc35d"
      },
      "source": [
        "x =  np.arange(2, 11).reshape(3,3)\n",
        "x"
      ],
      "execution_count": 3,
      "outputs": [
        {
          "output_type": "execute_result",
          "data": {
            "text/plain": [
              "array([[ 2,  3,  4],\n",
              "       [ 5,  6,  7],\n",
              "       [ 8,  9, 10]])"
            ]
          },
          "metadata": {
            "tags": []
          },
          "execution_count": 3
        }
      ]
    },
    {
      "cell_type": "markdown",
      "metadata": {
        "id": "CP_OYm22K-uT",
        "colab_type": "text"
      },
      "source": [
        "Write a NumPy program to create a null vector of size 10 and update sixth value to 11"
      ]
    },
    {
      "cell_type": "code",
      "metadata": {
        "id": "3V16B6-JK7ms",
        "colab_type": "code",
        "colab": {
          "base_uri": "https://localhost:8080/",
          "height": 52
        },
        "outputId": "457abb78-e33e-47e2-8e17-600585281dcf"
      },
      "source": [
        "x = np.zeros(10)\n",
        "print(x)\n",
        "x[6] = 11\n",
        "print(x)"
      ],
      "execution_count": 4,
      "outputs": [
        {
          "output_type": "stream",
          "text": [
            "[0. 0. 0. 0. 0. 0. 0. 0. 0. 0.]\n",
            "[ 0.  0.  0.  0.  0.  0. 11.  0.  0.  0.]\n"
          ],
          "name": "stdout"
        }
      ]
    },
    {
      "cell_type": "markdown",
      "metadata": {
        "id": "Y7T1YhFcOo3r",
        "colab_type": "text"
      },
      "source": [
        "Write a NumPy program to create a array with values ranging from 12 to 38"
      ]
    },
    {
      "cell_type": "code",
      "metadata": {
        "id": "Vp-Ri4ysLDoG",
        "colab_type": "code",
        "colab": {
          "base_uri": "https://localhost:8080/",
          "height": 52
        },
        "outputId": "76b249ae-3c37-4097-f500-20206c8f8bc3"
      },
      "source": [
        "x = np.arange(12, 38)\n",
        "print(x)"
      ],
      "execution_count": 5,
      "outputs": [
        {
          "output_type": "stream",
          "text": [
            "[12 13 14 15 16 17 18 19 20 21 22 23 24 25 26 27 28 29 30 31 32 33 34 35\n",
            " 36 37]\n"
          ],
          "name": "stdout"
        }
      ]
    },
    {
      "cell_type": "markdown",
      "metadata": {
        "id": "ObYkVJsGOuCx",
        "colab_type": "text"
      },
      "source": [
        "Write a NumPy program to reverse an array (first element becomes last)"
      ]
    },
    {
      "cell_type": "code",
      "metadata": {
        "id": "Ks2vZgOoOrnm",
        "colab_type": "code",
        "colab": {
          "base_uri": "https://localhost:8080/",
          "height": 87
        },
        "outputId": "b1fc5eb0-66c8-4686-d256-9e3ff5df698f"
      },
      "source": [
        "x = np.arange(12, 38)\n",
        "print(x)\n",
        "x = x[::-1]\n",
        "print(x)"
      ],
      "execution_count": 6,
      "outputs": [
        {
          "output_type": "stream",
          "text": [
            "[12 13 14 15 16 17 18 19 20 21 22 23 24 25 26 27 28 29 30 31 32 33 34 35\n",
            " 36 37]\n",
            "[37 36 35 34 33 32 31 30 29 28 27 26 25 24 23 22 21 20 19 18 17 16 15 14\n",
            " 13 12]\n"
          ],
          "name": "stdout"
        }
      ]
    },
    {
      "cell_type": "markdown",
      "metadata": {
        "id": "FGA2LZODO1sy",
        "colab_type": "text"
      },
      "source": [
        "Write a NumPy program to an array converted to a float type"
      ]
    },
    {
      "cell_type": "code",
      "metadata": {
        "id": "OXHpaAkNOynH",
        "colab_type": "code",
        "colab": {
          "base_uri": "https://localhost:8080/",
          "height": 52
        },
        "outputId": "b1d9ff70-9914-424f-c9b5-d8e305de5d52"
      },
      "source": [
        "a = [1, 2, 3, 4]\n",
        "print(a)\n",
        "x = np.asfarray(a)\n",
        "print(x)"
      ],
      "execution_count": 7,
      "outputs": [
        {
          "output_type": "stream",
          "text": [
            "[1, 2, 3, 4]\n",
            "[1. 2. 3. 4.]\n"
          ],
          "name": "stdout"
        }
      ]
    },
    {
      "cell_type": "markdown",
      "metadata": {
        "id": "FPLxf5uEO96b",
        "colab_type": "text"
      },
      "source": [
        "Write a NumPy program to create a 2d array with 1 on the border and 0 inside"
      ]
    },
    {
      "cell_type": "code",
      "metadata": {
        "id": "CEk_OXN-O50m",
        "colab_type": "code",
        "colab": {
          "base_uri": "https://localhost:8080/",
          "height": 212
        },
        "outputId": "4d4e6112-8cf3-4cc9-8687-894ed1fbe0da"
      },
      "source": [
        "x = np.ones((5,5))\n",
        "print(x)\n",
        "x[1:-1,1:-1] = 0\n",
        "print()\n",
        "print(x)"
      ],
      "execution_count": 9,
      "outputs": [
        {
          "output_type": "stream",
          "text": [
            "[[1. 1. 1. 1. 1.]\n",
            " [1. 1. 1. 1. 1.]\n",
            " [1. 1. 1. 1. 1.]\n",
            " [1. 1. 1. 1. 1.]\n",
            " [1. 1. 1. 1. 1.]]\n",
            "\n",
            "[[1. 1. 1. 1. 1.]\n",
            " [1. 0. 0. 0. 1.]\n",
            " [1. 0. 0. 0. 1.]\n",
            " [1. 0. 0. 0. 1.]\n",
            " [1. 1. 1. 1. 1.]]\n"
          ],
          "name": "stdout"
        }
      ]
    },
    {
      "cell_type": "markdown",
      "metadata": {
        "id": "t21TkSzoPIPa",
        "colab_type": "text"
      },
      "source": [
        "Write a NumPy program to add a border (filled with 0's) around an existing array"
      ]
    },
    {
      "cell_type": "code",
      "metadata": {
        "id": "yQHeZBI-PBqv",
        "colab_type": "code",
        "colab": {
          "base_uri": "https://localhost:8080/",
          "height": 158
        },
        "outputId": "17a2b4ea-5ceb-4b9f-dc8a-b5cc74d8d87e"
      },
      "source": [
        "x = np.ones((3,3))\n",
        "print(x)\n",
        "x = np.pad(x, pad_width=1, mode='constant', constant_values=0)\n",
        "print(x)\n"
      ],
      "execution_count": 10,
      "outputs": [
        {
          "output_type": "stream",
          "text": [
            "[[1. 1. 1.]\n",
            " [1. 1. 1.]\n",
            " [1. 1. 1.]]\n",
            "[[0. 0. 0. 0. 0.]\n",
            " [0. 1. 1. 1. 0.]\n",
            " [0. 1. 1. 1. 0.]\n",
            " [0. 1. 1. 1. 0.]\n",
            " [0. 0. 0. 0. 0.]]\n"
          ],
          "name": "stdout"
        }
      ]
    },
    {
      "cell_type": "code",
      "metadata": {
        "id": "b1cfeHy6PNvX",
        "colab_type": "code",
        "colab": {}
      },
      "source": [
        ""
      ],
      "execution_count": 0,
      "outputs": []
    }
  ]
}