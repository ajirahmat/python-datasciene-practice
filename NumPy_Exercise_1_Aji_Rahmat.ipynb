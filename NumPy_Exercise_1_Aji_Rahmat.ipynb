{
  "nbformat": 4,
  "nbformat_minor": 0,
  "metadata": {
    "colab": {
      "name": "NumPy-Exercise-1-Aji Rahmat.ipynb",
      "provenance": []
    },
    "kernelspec": {
      "name": "python3",
      "display_name": "Python 3"
    }
  },
  "cells": [
    {
      "cell_type": "markdown",
      "metadata": {
        "id": "ZuohJ-z3ezeT",
        "colab_type": "text"
      },
      "source": [
        "NumPy Exercise - Aji Rahmat"
      ]
    },
    {
      "cell_type": "code",
      "metadata": {
        "id": "k-eklaGqeoDW",
        "colab_type": "code",
        "colab": {
          "base_uri": "https://localhost:8080/",
          "height": 34
        },
        "outputId": "0218e5da-e3e2-40ce-8b0d-5e34c900b799"
      },
      "source": [
        "import numpy as np\n",
        "import pandas as pd\n",
        "a = np.array([1,2,3])\n",
        "print(a)"
      ],
      "execution_count": 2,
      "outputs": [
        {
          "output_type": "stream",
          "text": [
            "[1 2 3]\n"
          ],
          "name": "stdout"
        }
      ]
    },
    {
      "cell_type": "code",
      "metadata": {
        "id": "Pz9WTJkxfJRz",
        "colab_type": "code",
        "colab": {
          "base_uri": "https://localhost:8080/",
          "height": 68
        },
        "outputId": "bec2d521-8933-416e-e452-dc1b378563e9"
      },
      "source": [
        "#array two dimension\n",
        "b = np.array([['Name','Aji Rahmat'],['Birth Date','11-August-1997'],['University', 'Telkom University']])\n",
        "print(b)"
      ],
      "execution_count": 3,
      "outputs": [
        {
          "output_type": "stream",
          "text": [
            "[['Name' 'Aji Rahmat']\n",
            " ['Birth Date' '11-August-1997']\n",
            " ['University' 'Telkom University']]\n"
          ],
          "name": "stdout"
        }
      ]
    },
    {
      "cell_type": "code",
      "metadata": {
        "id": "pncW7h5LgEzo",
        "colab_type": "code",
        "colab": {
          "base_uri": "https://localhost:8080/",
          "height": 34
        },
        "outputId": "0f9f5d0f-beef-4614-9595-c40bb00bd4ca"
      },
      "source": [
        "c = np.array(['a','b','c'], ndmin=2)\n",
        "print(c)"
      ],
      "execution_count": 9,
      "outputs": [
        {
          "output_type": "stream",
          "text": [
            "[['a' 'b' 'c']]\n"
          ],
          "name": "stdout"
        }
      ]
    },
    {
      "cell_type": "code",
      "metadata": {
        "id": "Rf4OAwD6hPfd",
        "colab_type": "code",
        "colab": {
          "base_uri": "https://localhost:8080/",
          "height": 34
        },
        "outputId": "9ab33d84-8219-4592-85b9-a3989c255866"
      },
      "source": [
        "d = np.array([2,3,4,5], dtype=complex)\n",
        "print(d)"
      ],
      "execution_count": 11,
      "outputs": [
        {
          "output_type": "stream",
          "text": [
            "[2.+0.j 3.+0.j 4.+0.j 5.+0.j]\n"
          ],
          "name": "stdout"
        }
      ]
    },
    {
      "cell_type": "code",
      "metadata": {
        "id": "wPzOWuIrhqH3",
        "colab_type": "code",
        "colab": {
          "base_uri": "https://localhost:8080/",
          "height": 34
        },
        "outputId": "23c21d6d-7660-438d-f0f7-a6a4833a3e7c"
      },
      "source": [
        "dt = np.dtype(np.int32) \n",
        "print(dt)"
      ],
      "execution_count": 12,
      "outputs": [
        {
          "output_type": "stream",
          "text": [
            "int32\n"
          ],
          "name": "stdout"
        }
      ]
    },
    {
      "cell_type": "code",
      "metadata": {
        "id": "2oN1NftXiePY",
        "colab_type": "code",
        "colab": {
          "base_uri": "https://localhost:8080/",
          "height": 34
        },
        "outputId": "2bc1da76-873e-41cc-be64-921e151ab93f"
      },
      "source": [
        "#shape to know array size \n",
        "x = np.array([[1,2,3],['a','b,','c']])\n",
        "print(x.shape)"
      ],
      "execution_count": 29,
      "outputs": [
        {
          "output_type": "stream",
          "text": [
            "(2, 3)\n"
          ],
          "name": "stdout"
        }
      ]
    },
    {
      "cell_type": "code",
      "metadata": {
        "id": "TVYJKA6fjl75",
        "colab_type": "code",
        "colab": {
          "base_uri": "https://localhost:8080/",
          "height": 68
        },
        "outputId": "ea27b6b1-3ac9-4805-bc48-7a7c51b45ba8"
      },
      "source": [
        "# this resizes the ndarray \n",
        "z = np.array([[1,2,3],[4,5,6]]) \n",
        "z.shape = (3,2)\n",
        "print(z)"
      ],
      "execution_count": 26,
      "outputs": [
        {
          "output_type": "stream",
          "text": [
            "[[1 2]\n",
            " [3 4]\n",
            " [5 6]]\n"
          ],
          "name": "stdout"
        }
      ]
    },
    {
      "cell_type": "code",
      "metadata": {
        "id": "S-6Suuwkk2_g",
        "colab_type": "code",
        "colab": {
          "base_uri": "https://localhost:8080/",
          "height": 51
        },
        "outputId": "93176a47-4886-4ad9-ee63-ce6f08c936b5"
      },
      "source": [
        "#resahpe array\n",
        "w = z.reshape(2,3) \n",
        "print(w)"
      ],
      "execution_count": 32,
      "outputs": [
        {
          "output_type": "stream",
          "text": [
            "[[1 2 3]\n",
            " [4 5 6]]\n"
          ],
          "name": "stdout"
        }
      ]
    },
    {
      "cell_type": "code",
      "metadata": {
        "id": "Wm7IZpJPl8gN",
        "colab_type": "code",
        "colab": {
          "base_uri": "https://localhost:8080/",
          "height": 51
        },
        "outputId": "e4e2775c-9276-4ee3-fca9-dbe7f2933e4f"
      },
      "source": [
        "q = np.arange(24) \n",
        "print(q)\n",
        "print(q.ndim)"
      ],
      "execution_count": 34,
      "outputs": [
        {
          "output_type": "stream",
          "text": [
            "[ 0  1  2  3  4  5  6  7  8  9 10 11 12 13 14 15 16 17 18 19 20 21 22 23]\n",
            "1\n"
          ],
          "name": "stdout"
        }
      ]
    },
    {
      "cell_type": "code",
      "metadata": {
        "id": "k9wZFlRHmZ2a",
        "colab_type": "code",
        "colab": {
          "base_uri": "https://localhost:8080/",
          "height": 170
        },
        "outputId": "5aea1fda-0d20-40ce-d153-724f8b2150ce"
      },
      "source": [
        "e = np.arange(24) \n",
        "e.ndim  \n",
        "\n",
        "# reshape\n",
        "r = e.reshape(2,4,3) \n",
        "print(r)\n",
        "# r isthree dimensions"
      ],
      "execution_count": 37,
      "outputs": [
        {
          "output_type": "stream",
          "text": [
            "[[[ 0  1  2]\n",
            "  [ 3  4  5]\n",
            "  [ 6  7  8]\n",
            "  [ 9 10 11]]\n",
            "\n",
            " [[12 13 14]\n",
            "  [15 16 17]\n",
            "  [18 19 20]\n",
            "  [21 22 23]]]\n"
          ],
          "name": "stdout"
        }
      ]
    },
    {
      "cell_type": "code",
      "metadata": {
        "id": "Qz1E-6INmyCz",
        "colab_type": "code",
        "colab": {}
      },
      "source": [
        ""
      ],
      "execution_count": 0,
      "outputs": []
    }
  ]
}