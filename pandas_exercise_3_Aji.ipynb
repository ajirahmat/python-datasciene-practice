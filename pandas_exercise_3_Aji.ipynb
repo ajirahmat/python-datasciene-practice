{
  "nbformat": 4,
  "nbformat_minor": 0,
  "metadata": {
    "colab": {
      "name": "pandas-exercise-3-Aji.ipynb",
      "provenance": []
    },
    "kernelspec": {
      "name": "python3",
      "display_name": "Python 3"
    }
  },
  "cells": [
    {
      "cell_type": "code",
      "metadata": {
        "id": "Tg_e7eF94OxZ",
        "colab_type": "code",
        "colab": {
          "base_uri": "https://localhost:8080/",
          "height": 359
        },
        "outputId": "516811f8-faa0-41a8-ce3e-d754e99d9453"
      },
      "source": [
        "import numpy as np\n",
        "import pandas as pd\n",
        "exam_data = {\n",
        "    'name': ['Anastasia', 'Dima', 'Katherine', 'James', 'Emily', 'Michael', 'Matthew', 'Laura', 'Kevin', 'Jonas'], \n",
        "    'score': [12.5, 9, 16.5, np.nan, 9, 20, 14.5, np.nan, 8, 19], \n",
        "    'attempts': [1, 3, 2, 3, 2, 3, 1, 1, 2, 1], \n",
        "    'qualify': ['yes', 'no', 'yes', 'no', 'no', 'yes', 'yes', 'no', 'no', 'yes']\n",
        "}\n",
        "labels = ['a','b','c','d', 'e', 'f', 'g', 'h', 'i', 'j']\n",
        "\n",
        "df = pd.DataFrame(exam_data, index=labels)\n",
        "df"
      ],
      "execution_count": 1,
      "outputs": [
        {
          "output_type": "execute_result",
          "data": {
            "text/html": [
              "<div>\n",
              "<style scoped>\n",
              "    .dataframe tbody tr th:only-of-type {\n",
              "        vertical-align: middle;\n",
              "    }\n",
              "\n",
              "    .dataframe tbody tr th {\n",
              "        vertical-align: top;\n",
              "    }\n",
              "\n",
              "    .dataframe thead th {\n",
              "        text-align: right;\n",
              "    }\n",
              "</style>\n",
              "<table border=\"1\" class=\"dataframe\">\n",
              "  <thead>\n",
              "    <tr style=\"text-align: right;\">\n",
              "      <th></th>\n",
              "      <th>name</th>\n",
              "      <th>score</th>\n",
              "      <th>attempts</th>\n",
              "      <th>qualify</th>\n",
              "    </tr>\n",
              "  </thead>\n",
              "  <tbody>\n",
              "    <tr>\n",
              "      <th>a</th>\n",
              "      <td>Anastasia</td>\n",
              "      <td>12.5</td>\n",
              "      <td>1</td>\n",
              "      <td>yes</td>\n",
              "    </tr>\n",
              "    <tr>\n",
              "      <th>b</th>\n",
              "      <td>Dima</td>\n",
              "      <td>9.0</td>\n",
              "      <td>3</td>\n",
              "      <td>no</td>\n",
              "    </tr>\n",
              "    <tr>\n",
              "      <th>c</th>\n",
              "      <td>Katherine</td>\n",
              "      <td>16.5</td>\n",
              "      <td>2</td>\n",
              "      <td>yes</td>\n",
              "    </tr>\n",
              "    <tr>\n",
              "      <th>d</th>\n",
              "      <td>James</td>\n",
              "      <td>NaN</td>\n",
              "      <td>3</td>\n",
              "      <td>no</td>\n",
              "    </tr>\n",
              "    <tr>\n",
              "      <th>e</th>\n",
              "      <td>Emily</td>\n",
              "      <td>9.0</td>\n",
              "      <td>2</td>\n",
              "      <td>no</td>\n",
              "    </tr>\n",
              "    <tr>\n",
              "      <th>f</th>\n",
              "      <td>Michael</td>\n",
              "      <td>20.0</td>\n",
              "      <td>3</td>\n",
              "      <td>yes</td>\n",
              "    </tr>\n",
              "    <tr>\n",
              "      <th>g</th>\n",
              "      <td>Matthew</td>\n",
              "      <td>14.5</td>\n",
              "      <td>1</td>\n",
              "      <td>yes</td>\n",
              "    </tr>\n",
              "    <tr>\n",
              "      <th>h</th>\n",
              "      <td>Laura</td>\n",
              "      <td>NaN</td>\n",
              "      <td>1</td>\n",
              "      <td>no</td>\n",
              "    </tr>\n",
              "    <tr>\n",
              "      <th>i</th>\n",
              "      <td>Kevin</td>\n",
              "      <td>8.0</td>\n",
              "      <td>2</td>\n",
              "      <td>no</td>\n",
              "    </tr>\n",
              "    <tr>\n",
              "      <th>j</th>\n",
              "      <td>Jonas</td>\n",
              "      <td>19.0</td>\n",
              "      <td>1</td>\n",
              "      <td>yes</td>\n",
              "    </tr>\n",
              "  </tbody>\n",
              "</table>\n",
              "</div>"
            ],
            "text/plain": [
              "        name  score  attempts qualify\n",
              "a  Anastasia   12.5         1     yes\n",
              "b       Dima    9.0         3      no\n",
              "c  Katherine   16.5         2     yes\n",
              "d      James    NaN         3      no\n",
              "e      Emily    9.0         2      no\n",
              "f    Michael   20.0         3     yes\n",
              "g    Matthew   14.5         1     yes\n",
              "h      Laura    NaN         1      no\n",
              "i      Kevin    8.0         2      no\n",
              "j      Jonas   19.0         1     yes"
            ]
          },
          "metadata": {
            "tags": []
          },
          "execution_count": 1
        }
      ]
    },
    {
      "cell_type": "markdown",
      "metadata": {
        "id": "W7DCbn8hOYA7",
        "colab_type": "text"
      },
      "source": [
        "Write a Pandas program to write a DataFrame to CSV file using tab separator"
      ]
    },
    {
      "cell_type": "code",
      "metadata": {
        "id": "49NpEp6COaiO",
        "colab_type": "code",
        "colab": {
          "base_uri": "https://localhost:8080/",
          "height": 359
        },
        "outputId": "2b1f25fd-95c4-4424-8d53-82ae2731d4bf"
      },
      "source": [
        "df.to_csv('latihan.csv', sep = '\\t', index=False)\n",
        "latihan_df = pd.read_csv('latihan.csv')\n",
        "latihan_df"
      ],
      "execution_count": 2,
      "outputs": [
        {
          "output_type": "execute_result",
          "data": {
            "text/html": [
              "<div>\n",
              "<style scoped>\n",
              "    .dataframe tbody tr th:only-of-type {\n",
              "        vertical-align: middle;\n",
              "    }\n",
              "\n",
              "    .dataframe tbody tr th {\n",
              "        vertical-align: top;\n",
              "    }\n",
              "\n",
              "    .dataframe thead th {\n",
              "        text-align: right;\n",
              "    }\n",
              "</style>\n",
              "<table border=\"1\" class=\"dataframe\">\n",
              "  <thead>\n",
              "    <tr style=\"text-align: right;\">\n",
              "      <th></th>\n",
              "      <th>name\\tscore\\tattempts\\tqualify</th>\n",
              "    </tr>\n",
              "  </thead>\n",
              "  <tbody>\n",
              "    <tr>\n",
              "      <th>0</th>\n",
              "      <td>Anastasia\\t12.5\\t1\\tyes</td>\n",
              "    </tr>\n",
              "    <tr>\n",
              "      <th>1</th>\n",
              "      <td>Dima\\t9.0\\t3\\tno</td>\n",
              "    </tr>\n",
              "    <tr>\n",
              "      <th>2</th>\n",
              "      <td>Katherine\\t16.5\\t2\\tyes</td>\n",
              "    </tr>\n",
              "    <tr>\n",
              "      <th>3</th>\n",
              "      <td>James\\t\\t3\\tno</td>\n",
              "    </tr>\n",
              "    <tr>\n",
              "      <th>4</th>\n",
              "      <td>Emily\\t9.0\\t2\\tno</td>\n",
              "    </tr>\n",
              "    <tr>\n",
              "      <th>5</th>\n",
              "      <td>Michael\\t20.0\\t3\\tyes</td>\n",
              "    </tr>\n",
              "    <tr>\n",
              "      <th>6</th>\n",
              "      <td>Matthew\\t14.5\\t1\\tyes</td>\n",
              "    </tr>\n",
              "    <tr>\n",
              "      <th>7</th>\n",
              "      <td>Laura\\t\\t1\\tno</td>\n",
              "    </tr>\n",
              "    <tr>\n",
              "      <th>8</th>\n",
              "      <td>Kevin\\t8.0\\t2\\tno</td>\n",
              "    </tr>\n",
              "    <tr>\n",
              "      <th>9</th>\n",
              "      <td>Jonas\\t19.0\\t1\\tyes</td>\n",
              "    </tr>\n",
              "  </tbody>\n",
              "</table>\n",
              "</div>"
            ],
            "text/plain": [
              "  name\\tscore\\tattempts\\tqualify\n",
              "0        Anastasia\\t12.5\\t1\\tyes\n",
              "1               Dima\\t9.0\\t3\\tno\n",
              "2        Katherine\\t16.5\\t2\\tyes\n",
              "3                 James\\t\\t3\\tno\n",
              "4              Emily\\t9.0\\t2\\tno\n",
              "5          Michael\\t20.0\\t3\\tyes\n",
              "6          Matthew\\t14.5\\t1\\tyes\n",
              "7                 Laura\\t\\t1\\tno\n",
              "8              Kevin\\t8.0\\t2\\tno\n",
              "9            Jonas\\t19.0\\t1\\tyes"
            ]
          },
          "metadata": {
            "tags": []
          },
          "execution_count": 2
        }
      ]
    },
    {
      "cell_type": "markdown",
      "metadata": {
        "id": "vpmKGLeBPBj3",
        "colab_type": "text"
      },
      "source": [
        "Write a Pandas program to widen output display to see more columns."
      ]
    },
    {
      "cell_type": "code",
      "metadata": {
        "id": "5KW5tOYzOpcL",
        "colab_type": "code",
        "colab": {
          "base_uri": "https://localhost:8080/",
          "height": 359
        },
        "outputId": "e4b47d6f-fbec-4148-b80f-f951e9f32880"
      },
      "source": [
        "pd.set_option('display.max_rows', 500)\n",
        "pd.set_option('display.max_columns', 500)\n",
        "pd.set_option('display.width', 1000)\n",
        "df"
      ],
      "execution_count": 3,
      "outputs": [
        {
          "output_type": "execute_result",
          "data": {
            "text/html": [
              "<div>\n",
              "<style scoped>\n",
              "    .dataframe tbody tr th:only-of-type {\n",
              "        vertical-align: middle;\n",
              "    }\n",
              "\n",
              "    .dataframe tbody tr th {\n",
              "        vertical-align: top;\n",
              "    }\n",
              "\n",
              "    .dataframe thead th {\n",
              "        text-align: right;\n",
              "    }\n",
              "</style>\n",
              "<table border=\"1\" class=\"dataframe\">\n",
              "  <thead>\n",
              "    <tr style=\"text-align: right;\">\n",
              "      <th></th>\n",
              "      <th>name</th>\n",
              "      <th>score</th>\n",
              "      <th>attempts</th>\n",
              "      <th>qualify</th>\n",
              "    </tr>\n",
              "  </thead>\n",
              "  <tbody>\n",
              "    <tr>\n",
              "      <th>a</th>\n",
              "      <td>Anastasia</td>\n",
              "      <td>12.5</td>\n",
              "      <td>1</td>\n",
              "      <td>yes</td>\n",
              "    </tr>\n",
              "    <tr>\n",
              "      <th>b</th>\n",
              "      <td>Dima</td>\n",
              "      <td>9.0</td>\n",
              "      <td>3</td>\n",
              "      <td>no</td>\n",
              "    </tr>\n",
              "    <tr>\n",
              "      <th>c</th>\n",
              "      <td>Katherine</td>\n",
              "      <td>16.5</td>\n",
              "      <td>2</td>\n",
              "      <td>yes</td>\n",
              "    </tr>\n",
              "    <tr>\n",
              "      <th>d</th>\n",
              "      <td>James</td>\n",
              "      <td>NaN</td>\n",
              "      <td>3</td>\n",
              "      <td>no</td>\n",
              "    </tr>\n",
              "    <tr>\n",
              "      <th>e</th>\n",
              "      <td>Emily</td>\n",
              "      <td>9.0</td>\n",
              "      <td>2</td>\n",
              "      <td>no</td>\n",
              "    </tr>\n",
              "    <tr>\n",
              "      <th>f</th>\n",
              "      <td>Michael</td>\n",
              "      <td>20.0</td>\n",
              "      <td>3</td>\n",
              "      <td>yes</td>\n",
              "    </tr>\n",
              "    <tr>\n",
              "      <th>g</th>\n",
              "      <td>Matthew</td>\n",
              "      <td>14.5</td>\n",
              "      <td>1</td>\n",
              "      <td>yes</td>\n",
              "    </tr>\n",
              "    <tr>\n",
              "      <th>h</th>\n",
              "      <td>Laura</td>\n",
              "      <td>NaN</td>\n",
              "      <td>1</td>\n",
              "      <td>no</td>\n",
              "    </tr>\n",
              "    <tr>\n",
              "      <th>i</th>\n",
              "      <td>Kevin</td>\n",
              "      <td>8.0</td>\n",
              "      <td>2</td>\n",
              "      <td>no</td>\n",
              "    </tr>\n",
              "    <tr>\n",
              "      <th>j</th>\n",
              "      <td>Jonas</td>\n",
              "      <td>19.0</td>\n",
              "      <td>1</td>\n",
              "      <td>yes</td>\n",
              "    </tr>\n",
              "  </tbody>\n",
              "</table>\n",
              "</div>"
            ],
            "text/plain": [
              "        name  score  attempts qualify\n",
              "a  Anastasia   12.5         1     yes\n",
              "b       Dima    9.0         3      no\n",
              "c  Katherine   16.5         2     yes\n",
              "d      James    NaN         3      no\n",
              "e      Emily    9.0         2      no\n",
              "f    Michael   20.0         3     yes\n",
              "g    Matthew   14.5         1     yes\n",
              "h      Laura    NaN         1      no\n",
              "i      Kevin    8.0         2      no\n",
              "j      Jonas   19.0         1     yes"
            ]
          },
          "metadata": {
            "tags": []
          },
          "execution_count": 3
        }
      ]
    },
    {
      "cell_type": "markdown",
      "metadata": {
        "id": "O8qLtGfHPt-g",
        "colab_type": "text"
      },
      "source": [
        "Write a Pandas program to select a row of series/dataframe by given integer index"
      ]
    },
    {
      "cell_type": "code",
      "metadata": {
        "id": "qOEfMimJPnRY",
        "colab_type": "code",
        "colab": {
          "base_uri": "https://localhost:8080/",
          "height": 80
        },
        "outputId": "bd3c2890-a4c7-488a-b0e8-bf4d2542ca6b"
      },
      "source": [
        "result = df.iloc[[2]]\n",
        "result"
      ],
      "execution_count": 4,
      "outputs": [
        {
          "output_type": "execute_result",
          "data": {
            "text/html": [
              "<div>\n",
              "<style scoped>\n",
              "    .dataframe tbody tr th:only-of-type {\n",
              "        vertical-align: middle;\n",
              "    }\n",
              "\n",
              "    .dataframe tbody tr th {\n",
              "        vertical-align: top;\n",
              "    }\n",
              "\n",
              "    .dataframe thead th {\n",
              "        text-align: right;\n",
              "    }\n",
              "</style>\n",
              "<table border=\"1\" class=\"dataframe\">\n",
              "  <thead>\n",
              "    <tr style=\"text-align: right;\">\n",
              "      <th></th>\n",
              "      <th>name</th>\n",
              "      <th>score</th>\n",
              "      <th>attempts</th>\n",
              "      <th>qualify</th>\n",
              "    </tr>\n",
              "  </thead>\n",
              "  <tbody>\n",
              "    <tr>\n",
              "      <th>c</th>\n",
              "      <td>Katherine</td>\n",
              "      <td>16.5</td>\n",
              "      <td>2</td>\n",
              "      <td>yes</td>\n",
              "    </tr>\n",
              "  </tbody>\n",
              "</table>\n",
              "</div>"
            ],
            "text/plain": [
              "        name  score  attempts qualify\n",
              "c  Katherine   16.5         2     yes"
            ]
          },
          "metadata": {
            "tags": []
          },
          "execution_count": 4
        }
      ]
    },
    {
      "cell_type": "markdown",
      "metadata": {
        "id": "oWWgcRDcP8IS",
        "colab_type": "text"
      },
      "source": [
        "Write a Pandas program to replace all the NaN values with Zero's in a column of a dataframe."
      ]
    },
    {
      "cell_type": "code",
      "metadata": {
        "id": "9ovJE4rtP0Eb",
        "colab_type": "code",
        "colab": {
          "base_uri": "https://localhost:8080/",
          "height": 359
        },
        "outputId": "bff8041b-255f-42e9-c880-c5de3aef74c5"
      },
      "source": [
        "df = df.fillna(1)\n",
        "df"
      ],
      "execution_count": 5,
      "outputs": [
        {
          "output_type": "execute_result",
          "data": {
            "text/html": [
              "<div>\n",
              "<style scoped>\n",
              "    .dataframe tbody tr th:only-of-type {\n",
              "        vertical-align: middle;\n",
              "    }\n",
              "\n",
              "    .dataframe tbody tr th {\n",
              "        vertical-align: top;\n",
              "    }\n",
              "\n",
              "    .dataframe thead th {\n",
              "        text-align: right;\n",
              "    }\n",
              "</style>\n",
              "<table border=\"1\" class=\"dataframe\">\n",
              "  <thead>\n",
              "    <tr style=\"text-align: right;\">\n",
              "      <th></th>\n",
              "      <th>name</th>\n",
              "      <th>score</th>\n",
              "      <th>attempts</th>\n",
              "      <th>qualify</th>\n",
              "    </tr>\n",
              "  </thead>\n",
              "  <tbody>\n",
              "    <tr>\n",
              "      <th>a</th>\n",
              "      <td>Anastasia</td>\n",
              "      <td>12.5</td>\n",
              "      <td>1</td>\n",
              "      <td>yes</td>\n",
              "    </tr>\n",
              "    <tr>\n",
              "      <th>b</th>\n",
              "      <td>Dima</td>\n",
              "      <td>9.0</td>\n",
              "      <td>3</td>\n",
              "      <td>no</td>\n",
              "    </tr>\n",
              "    <tr>\n",
              "      <th>c</th>\n",
              "      <td>Katherine</td>\n",
              "      <td>16.5</td>\n",
              "      <td>2</td>\n",
              "      <td>yes</td>\n",
              "    </tr>\n",
              "    <tr>\n",
              "      <th>d</th>\n",
              "      <td>James</td>\n",
              "      <td>1.0</td>\n",
              "      <td>3</td>\n",
              "      <td>no</td>\n",
              "    </tr>\n",
              "    <tr>\n",
              "      <th>e</th>\n",
              "      <td>Emily</td>\n",
              "      <td>9.0</td>\n",
              "      <td>2</td>\n",
              "      <td>no</td>\n",
              "    </tr>\n",
              "    <tr>\n",
              "      <th>f</th>\n",
              "      <td>Michael</td>\n",
              "      <td>20.0</td>\n",
              "      <td>3</td>\n",
              "      <td>yes</td>\n",
              "    </tr>\n",
              "    <tr>\n",
              "      <th>g</th>\n",
              "      <td>Matthew</td>\n",
              "      <td>14.5</td>\n",
              "      <td>1</td>\n",
              "      <td>yes</td>\n",
              "    </tr>\n",
              "    <tr>\n",
              "      <th>h</th>\n",
              "      <td>Laura</td>\n",
              "      <td>1.0</td>\n",
              "      <td>1</td>\n",
              "      <td>no</td>\n",
              "    </tr>\n",
              "    <tr>\n",
              "      <th>i</th>\n",
              "      <td>Kevin</td>\n",
              "      <td>8.0</td>\n",
              "      <td>2</td>\n",
              "      <td>no</td>\n",
              "    </tr>\n",
              "    <tr>\n",
              "      <th>j</th>\n",
              "      <td>Jonas</td>\n",
              "      <td>19.0</td>\n",
              "      <td>1</td>\n",
              "      <td>yes</td>\n",
              "    </tr>\n",
              "  </tbody>\n",
              "</table>\n",
              "</div>"
            ],
            "text/plain": [
              "        name  score  attempts qualify\n",
              "a  Anastasia   12.5         1     yes\n",
              "b       Dima    9.0         3      no\n",
              "c  Katherine   16.5         2     yes\n",
              "d      James    1.0         3      no\n",
              "e      Emily    9.0         2      no\n",
              "f    Michael   20.0         3     yes\n",
              "g    Matthew   14.5         1     yes\n",
              "h      Laura    1.0         1      no\n",
              "i      Kevin    8.0         2      no\n",
              "j      Jonas   19.0         1     yes"
            ]
          },
          "metadata": {
            "tags": []
          },
          "execution_count": 5
        }
      ]
    },
    {
      "cell_type": "markdown",
      "metadata": {
        "id": "xJS2012JQXs4",
        "colab_type": "text"
      },
      "source": [
        "Write a Pandas program to count the NaN values in one or more columns in DataFrame"
      ]
    },
    {
      "cell_type": "code",
      "metadata": {
        "id": "DhhgqWsnQNJP",
        "colab_type": "code",
        "colab": {
          "base_uri": "https://localhost:8080/",
          "height": 34
        },
        "outputId": "8f73630a-fd96-44fc-8e62-3e1ef30353bc"
      },
      "source": [
        "print(df.isnull().values.sum())"
      ],
      "execution_count": 6,
      "outputs": [
        {
          "output_type": "stream",
          "text": [
            "0\n"
          ],
          "name": "stdout"
        }
      ]
    },
    {
      "cell_type": "markdown",
      "metadata": {
        "id": "7dbhkG4FRFX6",
        "colab_type": "text"
      },
      "source": [
        "Write a Pandas program to drop a list of rows from a specified DataFrame"
      ]
    },
    {
      "cell_type": "code",
      "metadata": {
        "id": "bP4TLNj1Q3RT",
        "colab_type": "code",
        "colab": {
          "base_uri": "https://localhost:8080/",
          "height": 170
        },
        "outputId": "c89da59b-c488-49b2-a3e0-2895667f2382"
      },
      "source": [
        "df = df.drop(df.index[[2,4]])\n",
        "print(df)"
      ],
      "execution_count": 7,
      "outputs": [
        {
          "output_type": "stream",
          "text": [
            "        name  score  attempts qualify\n",
            "a  Anastasia   12.5         1     yes\n",
            "b       Dima    9.0         3      no\n",
            "d      James    1.0         3      no\n",
            "f    Michael   20.0         3     yes\n",
            "g    Matthew   14.5         1     yes\n",
            "h      Laura    1.0         1      no\n",
            "i      Kevin    8.0         2      no\n",
            "j      Jonas   19.0         1     yes\n"
          ],
          "name": "stdout"
        }
      ]
    },
    {
      "cell_type": "markdown",
      "metadata": {
        "id": "7jK95uiPRTss",
        "colab_type": "text"
      },
      "source": [
        "Write a Pandas program to reset index in a given DataFrame"
      ]
    },
    {
      "cell_type": "code",
      "metadata": {
        "id": "0Wdr6ukNRMmj",
        "colab_type": "code",
        "colab": {
          "base_uri": "https://localhost:8080/",
          "height": 297
        },
        "outputId": "be0c98fd-5aa9-4777-98a6-c7fc21de529f"
      },
      "source": [
        "df = df.reset_index()\n",
        "df = df[[\"name\",\"score\",\"attempts\",\"qualify\"]]\n",
        "df"
      ],
      "execution_count": 8,
      "outputs": [
        {
          "output_type": "execute_result",
          "data": {
            "text/html": [
              "<div>\n",
              "<style scoped>\n",
              "    .dataframe tbody tr th:only-of-type {\n",
              "        vertical-align: middle;\n",
              "    }\n",
              "\n",
              "    .dataframe tbody tr th {\n",
              "        vertical-align: top;\n",
              "    }\n",
              "\n",
              "    .dataframe thead th {\n",
              "        text-align: right;\n",
              "    }\n",
              "</style>\n",
              "<table border=\"1\" class=\"dataframe\">\n",
              "  <thead>\n",
              "    <tr style=\"text-align: right;\">\n",
              "      <th></th>\n",
              "      <th>name</th>\n",
              "      <th>score</th>\n",
              "      <th>attempts</th>\n",
              "      <th>qualify</th>\n",
              "    </tr>\n",
              "  </thead>\n",
              "  <tbody>\n",
              "    <tr>\n",
              "      <th>0</th>\n",
              "      <td>Anastasia</td>\n",
              "      <td>12.5</td>\n",
              "      <td>1</td>\n",
              "      <td>yes</td>\n",
              "    </tr>\n",
              "    <tr>\n",
              "      <th>1</th>\n",
              "      <td>Dima</td>\n",
              "      <td>9.0</td>\n",
              "      <td>3</td>\n",
              "      <td>no</td>\n",
              "    </tr>\n",
              "    <tr>\n",
              "      <th>2</th>\n",
              "      <td>James</td>\n",
              "      <td>1.0</td>\n",
              "      <td>3</td>\n",
              "      <td>no</td>\n",
              "    </tr>\n",
              "    <tr>\n",
              "      <th>3</th>\n",
              "      <td>Michael</td>\n",
              "      <td>20.0</td>\n",
              "      <td>3</td>\n",
              "      <td>yes</td>\n",
              "    </tr>\n",
              "    <tr>\n",
              "      <th>4</th>\n",
              "      <td>Matthew</td>\n",
              "      <td>14.5</td>\n",
              "      <td>1</td>\n",
              "      <td>yes</td>\n",
              "    </tr>\n",
              "    <tr>\n",
              "      <th>5</th>\n",
              "      <td>Laura</td>\n",
              "      <td>1.0</td>\n",
              "      <td>1</td>\n",
              "      <td>no</td>\n",
              "    </tr>\n",
              "    <tr>\n",
              "      <th>6</th>\n",
              "      <td>Kevin</td>\n",
              "      <td>8.0</td>\n",
              "      <td>2</td>\n",
              "      <td>no</td>\n",
              "    </tr>\n",
              "    <tr>\n",
              "      <th>7</th>\n",
              "      <td>Jonas</td>\n",
              "      <td>19.0</td>\n",
              "      <td>1</td>\n",
              "      <td>yes</td>\n",
              "    </tr>\n",
              "  </tbody>\n",
              "</table>\n",
              "</div>"
            ],
            "text/plain": [
              "        name  score  attempts qualify\n",
              "0  Anastasia   12.5         1     yes\n",
              "1       Dima    9.0         3      no\n",
              "2      James    1.0         3      no\n",
              "3    Michael   20.0         3     yes\n",
              "4    Matthew   14.5         1     yes\n",
              "5      Laura    1.0         1      no\n",
              "6      Kevin    8.0         2      no\n",
              "7      Jonas   19.0         1     yes"
            ]
          },
          "metadata": {
            "tags": []
          },
          "execution_count": 8
        }
      ]
    },
    {
      "cell_type": "markdown",
      "metadata": {
        "id": "qXoE44n9RwFe",
        "colab_type": "text"
      },
      "source": [
        "Write a Pandas program to devide a DataFrame in a given ratio"
      ]
    },
    {
      "cell_type": "code",
      "metadata": {
        "id": "U-sPBJRMRZL0",
        "colab_type": "code",
        "colab": {
          "base_uri": "https://localhost:8080/",
          "height": 255
        },
        "outputId": "8857db11-d738-47ed-f051-e8b3f9a8d9e8"
      },
      "source": [
        "part_70 = df.sample(frac=0.7,random_state=10)\n",
        "part_30 = df.drop(part_70.index)\n",
        "print(\"\\n70% of the said DataFrame:\")\n",
        "print(part_70)\n",
        "print(\"\\n30% of the said DataFrame:\")\n",
        "print(part_30)"
      ],
      "execution_count": 9,
      "outputs": [
        {
          "output_type": "stream",
          "text": [
            "\n",
            "70% of the said DataFrame:\n",
            "        name  score  attempts qualify\n",
            "2      James    1.0         3      no\n",
            "3    Michael   20.0         3     yes\n",
            "6      Kevin    8.0         2      no\n",
            "7      Jonas   19.0         1     yes\n",
            "0  Anastasia   12.5         1     yes\n",
            "4    Matthew   14.5         1     yes\n",
            "\n",
            "30% of the said DataFrame:\n",
            "    name  score  attempts qualify\n",
            "1   Dima    9.0         3      no\n",
            "5  Laura    1.0         1      no\n"
          ],
          "name": "stdout"
        }
      ]
    },
    {
      "cell_type": "code",
      "metadata": {
        "id": "Tj1naTdGR80c",
        "colab_type": "code",
        "colab": {}
      },
      "source": [
        ""
      ],
      "execution_count": 0,
      "outputs": []
    }
  ]
}