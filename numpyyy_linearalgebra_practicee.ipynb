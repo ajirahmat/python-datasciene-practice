{
  "nbformat": 4,
  "nbformat_minor": 0,
  "metadata": {
    "colab": {
      "name": "numpyyy-linearalgebra-practicee.ipynb",
      "provenance": []
    },
    "kernelspec": {
      "name": "python3",
      "display_name": "Python 3"
    }
  },
  "cells": [
    {
      "cell_type": "code",
      "metadata": {
        "id": "Yi-9VlMryrII",
        "colab_type": "code",
        "colab": {}
      },
      "source": [
        "import numpy as np"
      ],
      "execution_count": 0,
      "outputs": []
    },
    {
      "cell_type": "code",
      "metadata": {
        "id": "4NhSeIJzNvL7",
        "colab_type": "code",
        "colab": {
          "base_uri": "https://localhost:8080/",
          "height": 34
        },
        "outputId": "a5e98665-78e8-4472-ec44-d9ae10a92643"
      },
      "source": [
        "#buatlah numpy array random dengan nilai 6-20\n",
        "array = np.arange(6,21)\n",
        "print(array)"
      ],
      "execution_count": 2,
      "outputs": [
        {
          "output_type": "stream",
          "text": [
            "[ 6  7  8  9 10 11 12 13 14 15 16 17 18 19 20]\n"
          ],
          "name": "stdout"
        }
      ]
    },
    {
      "cell_type": "code",
      "metadata": {
        "id": "JjSetpZRWX1q",
        "colab_type": "code",
        "colab": {
          "base_uri": "https://localhost:8080/",
          "height": 70
        },
        "outputId": "95a6f069-3753-4674-8a7e-4bd6000a0089"
      },
      "source": [
        "#buatlah matriks 2D denga ukuran 3x3\n",
        "array = np.arange(1,10).reshape(3,3) \n",
        "print(array)"
      ],
      "execution_count": 3,
      "outputs": [
        {
          "output_type": "stream",
          "text": [
            "[[1 2 3]\n",
            " [4 5 6]\n",
            " [7 8 9]]\n"
          ],
          "name": "stdout"
        }
      ]
    },
    {
      "cell_type": "code",
      "metadata": {
        "id": "UtPyHbwaWrBx",
        "colab_type": "code",
        "colab": {
          "base_uri": "https://localhost:8080/",
          "height": 34
        },
        "outputId": "7bfe1772-1ee9-458a-8da8-4aeb9c2b1d46"
      },
      "source": [
        "#covert list ini menjadi array 1 dimensi\n",
        "#List: [12.23, 13.32, 100, 36.32]\n",
        "array = np.array([12.23, 13.32, 100, 36.32],float)\n",
        "print(array)"
      ],
      "execution_count": 4,
      "outputs": [
        {
          "output_type": "stream",
          "text": [
            "[ 12.23  13.32 100.    36.32]\n"
          ],
          "name": "stdout"
        }
      ]
    },
    {
      "cell_type": "code",
      "metadata": {
        "id": "1Nm9HwuoXCn2",
        "colab_type": "code",
        "colab": {
          "base_uri": "https://localhost:8080/",
          "height": 34
        },
        "outputId": "cbd1bc0a-22ac-488c-957f-8fe5573c8ee1"
      },
      "source": [
        "#buatlah vektor 0 dengan ukuran 10 dan update nilai ke 8 dengan nilai 10\n",
        "array = np.zeros(12)\n",
        "array[8] = 10\n",
        "print(array)"
      ],
      "execution_count": 5,
      "outputs": [
        {
          "output_type": "stream",
          "text": [
            "[ 0.  0.  0.  0.  0.  0.  0.  0. 10.  0.  0.  0.]\n"
          ],
          "name": "stdout"
        }
      ]
    },
    {
      "cell_type": "code",
      "metadata": {
        "id": "Oa7LDPoAXfr9",
        "colab_type": "code",
        "colab": {
          "base_uri": "https://localhost:8080/",
          "height": 34
        },
        "outputId": "4894b082-e4bc-46ca-ebf8-d28afc2a0f04"
      },
      "source": [
        "#buatlah array lalu reverse array tersebut\n",
        "array = np.array([12.23, 13.32, 100, 36.32,10,93,10], int)\n",
        "array[::-1]"
      ],
      "execution_count": 6,
      "outputs": [
        {
          "output_type": "execute_result",
          "data": {
            "text/plain": [
              "array([ 10,  93,  10,  36, 100,  13,  12])"
            ]
          },
          "metadata": {
            "tags": []
          },
          "execution_count": 6
        }
      ]
    },
    {
      "cell_type": "code",
      "metadata": {
        "id": "4O_2g3GwYEt6",
        "colab_type": "code",
        "colab": {
          "base_uri": "https://localhost:8080/",
          "height": 105
        },
        "outputId": "40c11724-f758-440a-93c8-595c376fa1ab"
      },
      "source": [
        "array = np.ones((5,5))\n",
        "array[1:4,1:4] = 8\n",
        "print(array)"
      ],
      "execution_count": 7,
      "outputs": [
        {
          "output_type": "stream",
          "text": [
            "[[1. 1. 1. 1. 1.]\n",
            " [1. 8. 8. 8. 1.]\n",
            " [1. 8. 8. 8. 1.]\n",
            " [1. 8. 8. 8. 1.]\n",
            " [1. 1. 1. 1. 1.]]\n"
          ],
          "name": "stdout"
        }
      ]
    },
    {
      "cell_type": "code",
      "metadata": {
        "id": "h3hmCCiZY30N",
        "colab_type": "code",
        "colab": {
          "base_uri": "https://localhost:8080/",
          "height": 52
        },
        "outputId": "56289dbe-b4a4-40c6-c819-7854619d3f0b"
      },
      "source": [
        "#perkalian dua matriks\n",
        "a = [[1, 1], \n",
        "     [0, 1]]\n",
        "\n",
        "b = [[1, 2], \n",
        "     [3, 4]]\n",
        "\n",
        "c = np.dot(a,b)\n",
        "\n",
        "c"
      ],
      "execution_count": 8,
      "outputs": [
        {
          "output_type": "execute_result",
          "data": {
            "text/plain": [
              "array([[4, 6],\n",
              "       [3, 4]])"
            ]
          },
          "metadata": {
            "tags": []
          },
          "execution_count": 8
        }
      ]
    },
    {
      "cell_type": "code",
      "metadata": {
        "id": "EEilzelscgKc",
        "colab_type": "code",
        "colab": {
          "base_uri": "https://localhost:8080/",
          "height": 141
        },
        "outputId": "c57f0358-dfbe-4639-acd3-9c291b3e80b9"
      },
      "source": [
        "p = [[1, 0], [0, 1]]\n",
        "q = [[1, 2], [3, 4]]\n",
        "print(\"original matrix:\")\n",
        "print(p)\n",
        "print(q)\n",
        "result1 = np.cross(p, q)\n",
        "result2 = np.cross(q, p)\n",
        "print(\"cross product of the said two vectors(p, q):\")\n",
        "print(result1)\n",
        "print(\"cross product of the said two vectors(q, p):\")\n",
        "print(result2)"
      ],
      "execution_count": 9,
      "outputs": [
        {
          "output_type": "stream",
          "text": [
            "original matrix:\n",
            "[[1, 0], [0, 1]]\n",
            "[[1, 2], [3, 4]]\n",
            "cross product of the said two vectors(p, q):\n",
            "[ 2 -3]\n",
            "cross product of the said two vectors(q, p):\n",
            "[-2  3]\n"
          ],
          "name": "stdout"
        }
      ]
    },
    {
      "cell_type": "code",
      "metadata": {
        "id": "e_2R3Oheefnq",
        "colab_type": "code",
        "colab": {}
      },
      "source": [
        ""
      ],
      "execution_count": 0,
      "outputs": []
    }
  ]
}