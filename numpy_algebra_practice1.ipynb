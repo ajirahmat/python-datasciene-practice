{
  "nbformat": 4,
  "nbformat_minor": 0,
  "metadata": {
    "colab": {
      "name": "numpy-algebra-practice1.ipynb",
      "provenance": []
    },
    "kernelspec": {
      "name": "python3",
      "display_name": "Python 3"
    }
  },
  "cells": [
    {
      "cell_type": "markdown",
      "metadata": {
        "id": "AGcz1aglcOfj",
        "colab_type": "text"
      },
      "source": [
        "Write a NumPy program to get the numpy version and show numpy build configuration"
      ]
    },
    {
      "cell_type": "code",
      "metadata": {
        "id": "i8WgCVP8cLSk",
        "colab_type": "code",
        "colab": {}
      },
      "source": [
        "import pandas as pd\n",
        "import numpy as np"
      ],
      "execution_count": 0,
      "outputs": []
    },
    {
      "cell_type": "markdown",
      "metadata": {
        "id": "sA308CNfW-vQ",
        "colab_type": "text"
      },
      "source": [
        "Write a NumPy program to compute the multiplication of two given matrixes"
      ]
    },
    {
      "cell_type": "code",
      "metadata": {
        "id": "G8MCRn5CW-JX",
        "colab_type": "code",
        "colab": {
          "base_uri": "https://localhost:8080/",
          "height": 52
        },
        "outputId": "63b93c1a-db6d-4c66-ee7d-049827239d7f"
      },
      "source": [
        "p = [[1, 0], [0, 1]]\n",
        "q = [[1, 2], [3, 4]]\n",
        "result = np.dot(p, q)\n",
        "print(result)"
      ],
      "execution_count": 2,
      "outputs": [
        {
          "output_type": "stream",
          "text": [
            "[[1 2]\n",
            " [3 4]]\n"
          ],
          "name": "stdout"
        }
      ]
    },
    {
      "cell_type": "markdown",
      "metadata": {
        "id": "ua1CcLZFXLEq",
        "colab_type": "text"
      },
      "source": [
        "Write a NumPy program to compute the outer product of two given vectors."
      ]
    },
    {
      "cell_type": "code",
      "metadata": {
        "id": "ZSBNWcfYXHVl",
        "colab_type": "code",
        "colab": {}
      },
      "source": [
        "result = np.outer(p, q)"
      ],
      "execution_count": 0,
      "outputs": []
    },
    {
      "cell_type": "markdown",
      "metadata": {
        "id": "XhNXvrCIXhE_",
        "colab_type": "text"
      },
      "source": [
        "Write a NumPy program to compute the cross product of two given vectors"
      ]
    },
    {
      "cell_type": "code",
      "metadata": {
        "id": "al8aidvGXdnC",
        "colab_type": "code",
        "colab": {
          "base_uri": "https://localhost:8080/",
          "height": 70
        },
        "outputId": "7b45cf91-09ce-40a1-ad88-1418bb2cb61c"
      },
      "source": [
        "result1 = np.cross(p, q)\n",
        "result2 = np.cross(q, p)\n",
        "print(result1)\n",
        "print(\"\")\n",
        "print(result2)"
      ],
      "execution_count": 4,
      "outputs": [
        {
          "output_type": "stream",
          "text": [
            "[ 2 -3]\n",
            "\n",
            "[-2  3]\n"
          ],
          "name": "stdout"
        }
      ]
    },
    {
      "cell_type": "markdown",
      "metadata": {
        "id": "ZGnIv_DDX-Tv",
        "colab_type": "text"
      },
      "source": [
        "Write a NumPy program to compute the determinant of a given square array."
      ]
    },
    {
      "cell_type": "code",
      "metadata": {
        "id": "yMwfQYBXXmNs",
        "colab_type": "code",
        "colab": {
          "base_uri": "https://localhost:8080/",
          "height": 105
        },
        "outputId": "00ceca20-eb91-49a2-fc62-748566a644a3"
      },
      "source": [
        "a = np.array([[1, 0], [1, 2]])\n",
        "print(\"Original 2-d array\")\n",
        "print(a)\n",
        "print(\"Determinant of the said 2-D array:\")\n",
        "print(np.linalg.det(a))"
      ],
      "execution_count": 5,
      "outputs": [
        {
          "output_type": "stream",
          "text": [
            "Original 2-d array\n",
            "[[1 0]\n",
            " [1 2]]\n",
            "Determinant of the said 2-D array:\n",
            "2.0\n"
          ],
          "name": "stdout"
        }
      ]
    },
    {
      "cell_type": "markdown",
      "metadata": {
        "id": "R_S_yyYYYOEz",
        "colab_type": "text"
      },
      "source": [
        "Write a NumPy program to compute the inner product of vectors for 1-D arrays (without complex conjugation) and in higher dimension"
      ]
    },
    {
      "cell_type": "code",
      "metadata": {
        "id": "g71feNevYPBb",
        "colab_type": "code",
        "colab": {
          "base_uri": "https://localhost:8080/",
          "height": 283
        },
        "outputId": "d063a723-369f-4891-a4a8-c61fd8dfb066"
      },
      "source": [
        "a = np.array([1,2,5])\n",
        "b = np.array([2,1,0])\n",
        "print(\"Original 1-d arrays:\")\n",
        "print(a)\n",
        "print(b)\n",
        "print \n",
        "result = np.inner(a, b)\n",
        "print(\"Inner product of the said vectors:\")\n",
        "x = np.arange(9).reshape(3, 3)\n",
        "y = np.arange(3, 12).reshape(3, 3)\n",
        "print(\"Higher dimension arrays:\")\n",
        "print(x)\n",
        "print(y)\n",
        "result = np.inner(x, y)\n",
        "print(\"Inner product of the said vectors:\")\n",
        "print(result)"
      ],
      "execution_count": 6,
      "outputs": [
        {
          "output_type": "stream",
          "text": [
            "Original 1-d arrays:\n",
            "[1 2 5]\n",
            "[2 1 0]\n",
            "Inner product of the said vectors:\n",
            "Higher dimension arrays:\n",
            "[[0 1 2]\n",
            " [3 4 5]\n",
            " [6 7 8]]\n",
            "[[ 3  4  5]\n",
            " [ 6  7  8]\n",
            " [ 9 10 11]]\n",
            "Inner product of the said vectors:\n",
            "[[ 14  23  32]\n",
            " [ 50  86 122]\n",
            " [ 86 149 212]]\n"
          ],
          "name": "stdout"
        }
      ]
    },
    {
      "cell_type": "markdown",
      "metadata": {
        "id": "IE36j-8MYWwP",
        "colab_type": "text"
      },
      "source": [
        "Write a NumPy program to compute the eigenvalues and right eigenvectors of a given square arra"
      ]
    },
    {
      "cell_type": "code",
      "metadata": {
        "id": "nDcxvrClYXHX",
        "colab_type": "code",
        "colab": {
          "base_uri": "https://localhost:8080/",
          "height": 141
        },
        "outputId": "91ce1f52-acd3-4aae-c7e4-e54af27cf788"
      },
      "source": [
        "m = np.mat(\"3 -2;1 0\")\n",
        "print(\"Original matrix:\")\n",
        "print(\"a\\n\", m)\n",
        "w, v = np.linalg.eig(m) \n",
        "print( \"Eigenvalues of the said matrix\",w)\n",
        "print( \"Eigenvectors of the said matrix\",v)"
      ],
      "execution_count": 7,
      "outputs": [
        {
          "output_type": "stream",
          "text": [
            "Original matrix:\n",
            "a\n",
            " [[ 3 -2]\n",
            " [ 1  0]]\n",
            "Eigenvalues of the said matrix [2. 1.]\n",
            "Eigenvectors of the said matrix [[0.89442719 0.70710678]\n",
            " [0.4472136  0.70710678]]\n"
          ],
          "name": "stdout"
        }
      ]
    },
    {
      "cell_type": "markdown",
      "metadata": {
        "id": "zkZ06UqOYc5e",
        "colab_type": "text"
      },
      "source": [
        "Write a NumPy program to compute the condition number of a given matrix."
      ]
    },
    {
      "cell_type": "code",
      "metadata": {
        "id": "ONou-QLeYgjU",
        "colab_type": "code",
        "colab": {
          "base_uri": "https://localhost:8080/",
          "height": 123
        },
        "outputId": "1da7b100-a3be-405d-e36c-2a7ccd64176a"
      },
      "source": [
        "from numpy import linalg as LA\n",
        "a = np.array([[1, 0, -1], [0, 1, 0], [1, 0, 1]])\n",
        "print(\"Original matrix:\")\n",
        "print(a)\n",
        "print(\"The condition number of the said matrix:\")\n",
        "print(LA.cond(a))"
      ],
      "execution_count": 8,
      "outputs": [
        {
          "output_type": "stream",
          "text": [
            "Original matrix:\n",
            "[[ 1  0 -1]\n",
            " [ 0  1  0]\n",
            " [ 1  0  1]]\n",
            "The condition number of the said matrix:\n",
            "1.4142135623730951\n"
          ],
          "name": "stdout"
        }
      ]
    },
    {
      "cell_type": "markdown",
      "metadata": {
        "id": "NRGcgtVRYnos",
        "colab_type": "text"
      },
      "source": [
        "Write a NumPy program to find a matrix or vector norm"
      ]
    },
    {
      "cell_type": "code",
      "metadata": {
        "id": "3OUUkOwUYiyp",
        "colab_type": "code",
        "colab": {
          "base_uri": "https://localhost:8080/",
          "height": 87
        },
        "outputId": "659a4664-c74d-4eef-f2fb-ed6ed1ded318"
      },
      "source": [
        "v = np.arange(7)\n",
        "result = np.linalg.norm(v)\n",
        "print(\"Vector norm:\")\n",
        "print(result)\n",
        "m = np.matrix('1, 2; 3, 4') \n",
        "result1 = np.linalg.norm(m)\n",
        "print(\"Matrix norm:\")\n",
        "print(result1)"
      ],
      "execution_count": 9,
      "outputs": [
        {
          "output_type": "stream",
          "text": [
            "Vector norm:\n",
            "9.539392014169456\n",
            "Matrix norm:\n",
            "5.477225575051661\n"
          ],
          "name": "stdout"
        }
      ]
    },
    {
      "cell_type": "markdown",
      "metadata": {
        "id": "JbDSgyRXYwWv",
        "colab_type": "text"
      },
      "source": [
        "Write a NumPy program to compute the determinant of an array."
      ]
    },
    {
      "cell_type": "code",
      "metadata": {
        "id": "3Nz1YYEcYw0x",
        "colab_type": "code",
        "colab": {
          "base_uri": "https://localhost:8080/",
          "height": 105
        },
        "outputId": "0a5cd8dc-072d-41b3-cc3d-600526b00beb"
      },
      "source": [
        "a = np.array([[1,2],[3,4]])\n",
        "print(\"Original array:\")\n",
        "print(a)\n",
        "result =  np.linalg.det(a)\n",
        "print(\"Determinant of the said array:\")\n",
        "print(result)"
      ],
      "execution_count": 10,
      "outputs": [
        {
          "output_type": "stream",
          "text": [
            "Original array:\n",
            "[[1 2]\n",
            " [3 4]]\n",
            "Determinant of the said array:\n",
            "-2.0000000000000004\n"
          ],
          "name": "stdout"
        }
      ]
    },
    {
      "cell_type": "markdown",
      "metadata": {
        "id": "3hPlF_jwY2De",
        "colab_type": "text"
      },
      "source": [
        "Write a NumPy program compute the inverse of a given matrix"
      ]
    },
    {
      "cell_type": "code",
      "metadata": {
        "id": "9cuMmWI_Y2gq",
        "colab_type": "code",
        "colab": {
          "base_uri": "https://localhost:8080/",
          "height": 123
        },
        "outputId": "7a9bb241-f68d-4e2b-d1a6-cd478905584e"
      },
      "source": [
        "m = np.array([[1,2],[3,4]])\n",
        "print(\"Original matrix:\")\n",
        "print(m)\n",
        "result =  np.linalg.inv(m)\n",
        "print(\"Inverse of the said matrix:\")\n",
        "print(result)"
      ],
      "execution_count": 11,
      "outputs": [
        {
          "output_type": "stream",
          "text": [
            "Original matrix:\n",
            "[[1 2]\n",
            " [3 4]]\n",
            "Inverse of the said matrix:\n",
            "[[-2.   1. ]\n",
            " [ 1.5 -0.5]]\n"
          ],
          "name": "stdout"
        }
      ]
    }
  ]
}