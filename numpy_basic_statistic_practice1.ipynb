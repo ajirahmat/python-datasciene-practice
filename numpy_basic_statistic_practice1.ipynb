{
  "nbformat": 4,
  "nbformat_minor": 0,
  "metadata": {
    "colab": {
      "name": "numpy-basic statistic-practice1.ipynb",
      "provenance": []
    },
    "kernelspec": {
      "name": "python3",
      "display_name": "Python 3"
    }
  },
  "cells": [
    {
      "cell_type": "code",
      "metadata": {
        "id": "i8WgCVP8cLSk",
        "colab_type": "code",
        "colab": {}
      },
      "source": [
        "import pandas as pd\n",
        "import numpy as np"
      ],
      "execution_count": 0,
      "outputs": []
    },
    {
      "cell_type": "markdown",
      "metadata": {
        "id": "PkX8Rb9SZZTQ",
        "colab_type": "text"
      },
      "source": [
        "Write a Python program to find the maximum and minimum value of a given flattened array."
      ]
    },
    {
      "cell_type": "code",
      "metadata": {
        "id": "t7gMY87rZd-D",
        "colab_type": "code",
        "colab": {
          "base_uri": "https://localhost:8080/",
          "height": 87
        },
        "outputId": "a46954a4-8fde-41c6-b27e-bc9bf521e600"
      },
      "source": [
        "a = np.arange(4).reshape((2,2))\n",
        "print(a)\n",
        "print(np.amax(a))\n",
        "print(np.amin(a))"
      ],
      "execution_count": 2,
      "outputs": [
        {
          "output_type": "stream",
          "text": [
            "[[0 1]\n",
            " [2 3]]\n",
            "3\n",
            "0\n"
          ],
          "name": "stdout"
        }
      ]
    },
    {
      "cell_type": "markdown",
      "metadata": {
        "id": "z58LsglaZjWo",
        "colab_type": "text"
      },
      "source": [
        "Write a NumPy program to get the minimum and maximum value of a given array along the second axis"
      ]
    },
    {
      "cell_type": "code",
      "metadata": {
        "id": "bxqZzdl9ZeTH",
        "colab_type": "code",
        "colab": {
          "base_uri": "https://localhost:8080/",
          "height": 87
        },
        "outputId": "7e0f8a3e-4a99-46dc-8de5-348744e2255b"
      },
      "source": [
        "x = np.arange(4).reshape((2, 2))\n",
        "print(x)\n",
        "print(np.amax(x, 1))\n",
        "print(np.amin(x, 1))"
      ],
      "execution_count": 3,
      "outputs": [
        {
          "output_type": "stream",
          "text": [
            "[[0 1]\n",
            " [2 3]]\n",
            "[1 3]\n",
            "[0 2]\n"
          ],
          "name": "stdout"
        }
      ]
    },
    {
      "cell_type": "markdown",
      "metadata": {
        "id": "6AqDXRFlZp-a",
        "colab_type": "text"
      },
      "source": [
        "Write a NumPy program to calculate the difference between the maximum and the minimum values of a given array along the second axis."
      ]
    },
    {
      "cell_type": "code",
      "metadata": {
        "id": "Lh4cqq88ZpUV",
        "colab_type": "code",
        "colab": {
          "base_uri": "https://localhost:8080/",
          "height": 70
        },
        "outputId": "8287abf9-3f0d-4211-ecdb-7037d9e71bf9"
      },
      "source": [
        "x = np.arange(12).reshape((2, 6))\n",
        "print(x)\n",
        "r1 = np.ptp(x, 1)\n",
        "r2 = np.amax(x, 1) - np.amin(x, 1)\n",
        "assert np.allclose(r1, r2)\n",
        "print(r1)"
      ],
      "execution_count": 4,
      "outputs": [
        {
          "output_type": "stream",
          "text": [
            "[[ 0  1  2  3  4  5]\n",
            " [ 6  7  8  9 10 11]]\n",
            "[5 5]\n"
          ],
          "name": "stdout"
        }
      ]
    },
    {
      "cell_type": "markdown",
      "metadata": {
        "id": "yNFRN9lnZxAh",
        "colab_type": "text"
      },
      "source": [
        "Write a NumPy program to compute the 80th percentile for all elements in a given array along the second axis"
      ]
    },
    {
      "cell_type": "code",
      "metadata": {
        "id": "lPXOT8J6ZxWD",
        "colab_type": "code",
        "colab": {
          "base_uri": "https://localhost:8080/",
          "height": 87
        },
        "outputId": "80026bf8-a49f-4bff-d8e8-2723e982ce39"
      },
      "source": [
        "x = np.arange(18).reshape((3, 6))\n",
        "print(x)\n",
        "r1 = np.percentile(x, 80, 1)\n",
        "print(r1)"
      ],
      "execution_count": 5,
      "outputs": [
        {
          "output_type": "stream",
          "text": [
            "[[ 0  1  2  3  4  5]\n",
            " [ 6  7  8  9 10 11]\n",
            " [12 13 14 15 16 17]]\n",
            "[ 4. 10. 16.]\n"
          ],
          "name": "stdout"
        }
      ]
    },
    {
      "cell_type": "markdown",
      "metadata": {
        "id": "D4zB_TwyabrT",
        "colab_type": "text"
      },
      "source": [
        "Write a NumPy program to compute the weighted of a given array"
      ]
    },
    {
      "cell_type": "code",
      "metadata": {
        "id": "u_-u--bKZ2vD",
        "colab_type": "code",
        "colab": {
          "base_uri": "https://localhost:8080/",
          "height": 123
        },
        "outputId": "24448e0c-181c-4b85-8894-6c3aa3e54944"
      },
      "source": [
        "x = np.arange(5)\n",
        "print(\"\\nOriginal array:\")\n",
        "print(x)\n",
        "weights = np.arange(1, 6)\n",
        "r1 = np.average(x, weights=weights)\n",
        "r2 = (x*(weights/weights.sum())).sum()\n",
        "assert np.allclose(r1, r2)\n",
        "print(\"\\nWeighted average of the said array:\")\n",
        "print(r1)"
      ],
      "execution_count": 7,
      "outputs": [
        {
          "output_type": "stream",
          "text": [
            "\n",
            "Original array:\n",
            "[0 1 2 3 4]\n",
            "\n",
            "Weighted average of the said array:\n",
            "2.6666666666666665\n"
          ],
          "name": "stdout"
        }
      ]
    },
    {
      "cell_type": "markdown",
      "metadata": {
        "id": "ZXCnzwAIahSx",
        "colab_type": "text"
      },
      "source": [
        "Write a NumPy program to compute the mean, standard deviation, and variance of a given array along the second axis."
      ]
    },
    {
      "cell_type": "code",
      "metadata": {
        "id": "wPBqGBUaagy5",
        "colab_type": "code",
        "colab": {
          "base_uri": "https://localhost:8080/",
          "height": 176
        },
        "outputId": "ca5b15fd-0aa8-4012-9af0-75b5b6a45516"
      },
      "source": [
        "x = np.arange(6)\n",
        "print(\"\\nOriginal array:\")\n",
        "print(x)\n",
        "r1 = np.mean(x)\n",
        "r2 = np.average(x)\n",
        "assert np.allclose(r1, r2)\n",
        "print(\"\\nMean: \", r1)\n",
        "r1 = np.std(x)\n",
        "r2 = np.sqrt(np.mean((x - np.mean(x)) ** 2 ))\n",
        "assert np.allclose(r1, r2)\n",
        "print(\"\\nstd: \", 1)\n",
        "r1= np.var(x)\n",
        "r2 = np.mean((x - np.mean(x)) ** 2 )\n",
        "assert np.allclose(r1, r2)\n",
        "print(\"\\nvariance: \", r1)"
      ],
      "execution_count": 8,
      "outputs": [
        {
          "output_type": "stream",
          "text": [
            "\n",
            "Original array:\n",
            "[0 1 2 3 4 5]\n",
            "\n",
            "Mean:  2.5\n",
            "\n",
            "std:  1\n",
            "\n",
            "variance:  2.9166666666666665\n"
          ],
          "name": "stdout"
        }
      ]
    },
    {
      "cell_type": "markdown",
      "metadata": {
        "id": "2JH1E_Y7ao2_",
        "colab_type": "text"
      },
      "source": [
        "Write a NumPy program to compute the covariance matrix of two given arrays."
      ]
    },
    {
      "cell_type": "code",
      "metadata": {
        "id": "1YRwMGaKamdV",
        "colab_type": "code",
        "colab": {
          "base_uri": "https://localhost:8080/",
          "height": 194
        },
        "outputId": "6bdeb331-14dd-4fbe-cc65-7334dfc47473"
      },
      "source": [
        "x = np.array([0, 1, 2])\n",
        "y = np.array([2, 1, 0])\n",
        "print(\"\\nOriginal array1:\")\n",
        "print(x)\n",
        "print(\"\\nOriginal array1:\")\n",
        "print(y)\n",
        "print(\"\\nCovariance matrix of the said arrays:\\n\",np.cov(x, y))"
      ],
      "execution_count": 9,
      "outputs": [
        {
          "output_type": "stream",
          "text": [
            "\n",
            "Original array1:\n",
            "[0 1 2]\n",
            "\n",
            "Original array1:\n",
            "[2 1 0]\n",
            "\n",
            "Covariance matrix of the said arrays:\n",
            " [[ 1. -1.]\n",
            " [-1.  1.]]\n"
          ],
          "name": "stdout"
        }
      ]
    }
  ]
}