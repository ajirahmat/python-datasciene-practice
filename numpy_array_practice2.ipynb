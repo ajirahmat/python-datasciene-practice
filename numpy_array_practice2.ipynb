{
  "nbformat": 4,
  "nbformat_minor": 0,
  "metadata": {
    "colab": {
      "name": "numpy-array-practice2.ipynb",
      "provenance": []
    },
    "kernelspec": {
      "name": "python3",
      "display_name": "Python 3"
    }
  },
  "cells": [
    {
      "cell_type": "markdown",
      "metadata": {
        "id": "AGcz1aglcOfj",
        "colab_type": "text"
      },
      "source": [
        "Write a NumPy program to get the numpy version and show numpy build configuration"
      ]
    },
    {
      "cell_type": "code",
      "metadata": {
        "id": "i8WgCVP8cLSk",
        "colab_type": "code",
        "colab": {}
      },
      "source": [
        "import pandas as pd\n",
        "import numpy as np"
      ],
      "execution_count": 0,
      "outputs": []
    },
    {
      "cell_type": "markdown",
      "metadata": {
        "id": "mQFu4qUDVA9b",
        "colab_type": "text"
      },
      "source": [
        "Write a NumPy program to create a 8x8 matrix and fill it with a checkerboard pattern"
      ]
    },
    {
      "cell_type": "code",
      "metadata": {
        "id": "u-QILs2xVQmW",
        "colab_type": "code",
        "colab": {
          "base_uri": "https://localhost:8080/",
          "height": 158
        },
        "outputId": "c8508c05-a310-4d6f-fff4-db8f72e9be3a"
      },
      "source": [
        "x = np.ones((3,3))\n",
        "x = np.zeros((8,8),dtype=int)\n",
        "x[1::2,::2] = 1\n",
        "x[::2,1::2] = 1\n",
        "print(x)"
      ],
      "execution_count": 11,
      "outputs": [
        {
          "output_type": "stream",
          "text": [
            "[[0 1 0 1 0 1 0 1]\n",
            " [1 0 1 0 1 0 1 0]\n",
            " [0 1 0 1 0 1 0 1]\n",
            " [1 0 1 0 1 0 1 0]\n",
            " [0 1 0 1 0 1 0 1]\n",
            " [1 0 1 0 1 0 1 0]\n",
            " [0 1 0 1 0 1 0 1]\n",
            " [1 0 1 0 1 0 1 0]]\n"
          ],
          "name": "stdout"
        }
      ]
    },
    {
      "cell_type": "markdown",
      "metadata": {
        "id": "tTyFFRSXVVVH",
        "colab_type": "text"
      },
      "source": [
        "Write a NumPy program to convert a list and tuple into arrays"
      ]
    },
    {
      "cell_type": "code",
      "metadata": {
        "id": "YsF46HlRVV_4",
        "colab_type": "code",
        "colab": {
          "base_uri": "https://localhost:8080/",
          "height": 70
        },
        "outputId": "f9e5ca49-9ebe-4b91-ddbe-b512c02c3ef3"
      },
      "source": [
        "alist = [1, 2, 3, 4, 5, 6, 7, 8]\n",
        "print(np.asarray(alist))\n",
        "atuple = ([8, 4, 6], [1, 2, 3])\n",
        "print(np.asarray(atuple))"
      ],
      "execution_count": 12,
      "outputs": [
        {
          "output_type": "stream",
          "text": [
            "[1 2 3 4 5 6 7 8]\n",
            "[[8 4 6]\n",
            " [1 2 3]]\n"
          ],
          "name": "stdout"
        }
      ]
    },
    {
      "cell_type": "markdown",
      "metadata": {
        "id": "1Wm9gWKqVhkk",
        "colab_type": "text"
      },
      "source": [
        " Write a NumPy program to append values to the end of an array"
      ]
    },
    {
      "cell_type": "code",
      "metadata": {
        "id": "zDskXeAeVc5c",
        "colab_type": "code",
        "colab": {
          "base_uri": "https://localhost:8080/",
          "height": 52
        },
        "outputId": "ccbdeecd-2e64-41ee-92f2-d6c10d359097"
      },
      "source": [
        "x = [10, 20, 30]\n",
        "print(x)\n",
        "x = np.append(x, [[40, 50, 60], [70, 80, 90]])\n",
        "print(x)"
      ],
      "execution_count": 13,
      "outputs": [
        {
          "output_type": "stream",
          "text": [
            "[10, 20, 30]\n",
            "[10 20 30 40 50 60 70 80 90]\n"
          ],
          "name": "stdout"
        }
      ]
    },
    {
      "cell_type": "markdown",
      "metadata": {
        "id": "rZ5v1sjyVq7K",
        "colab_type": "text"
      },
      "source": [
        " Write a NumPy program to create an empty and a full array"
      ]
    },
    {
      "cell_type": "code",
      "metadata": {
        "id": "aD4d7FKMVmIa",
        "colab_type": "code",
        "colab": {
          "base_uri": "https://localhost:8080/",
          "height": 105
        },
        "outputId": "821f8c09-9282-4e12-bdc4-30ff23835fd0"
      },
      "source": [
        "x = np.empty((2,3))\n",
        "print(x)\n",
        "y = np.full((3,3),6)\n",
        "print(y)"
      ],
      "execution_count": 14,
      "outputs": [
        {
          "output_type": "stream",
          "text": [
            "[[1.98e-322 2.47e-322 2.96e-322]\n",
            " [3.46e-322 3.95e-322 4.45e-322]]\n",
            "[[6 6 6]\n",
            " [6 6 6]\n",
            " [6 6 6]]\n"
          ],
          "name": "stdout"
        }
      ]
    },
    {
      "cell_type": "markdown",
      "metadata": {
        "id": "-OpNojbcV4lr",
        "colab_type": "text"
      },
      "source": [
        " Write a NumPy program to convert the values of Centigrade degrees into Fahrenheit degrees. Centigrade values are stored into a NumPy array."
      ]
    },
    {
      "cell_type": "code",
      "metadata": {
        "id": "heG6lr8LV1aA",
        "colab_type": "code",
        "colab": {
          "base_uri": "https://localhost:8080/",
          "height": 52
        },
        "outputId": "ebf662ed-4eb8-42a1-b745-8f3d500f04d7"
      },
      "source": [
        "fvalues = [0, 12, 45.21, 34, 99.91]\n",
        "F = np.array(fvalues)\n",
        "print(F)\n",
        "print(5*F/9 - 5*32/9)"
      ],
      "execution_count": 15,
      "outputs": [
        {
          "output_type": "stream",
          "text": [
            "[ 0.   12.   45.21 34.   99.91]\n",
            "[-17.77777778 -11.11111111   7.33888889   1.11111111  37.72777778]\n"
          ],
          "name": "stdout"
        }
      ]
    },
    {
      "cell_type": "markdown",
      "metadata": {
        "id": "u2jzm7GiWEYc",
        "colab_type": "text"
      },
      "source": [
        "Write a NumPy program to find the number of elements of an array, length of one array element in bytes and total bytes consumed by the elements"
      ]
    },
    {
      "cell_type": "code",
      "metadata": {
        "id": "0RxVIzleV-i0",
        "colab_type": "code",
        "colab": {
          "base_uri": "https://localhost:8080/",
          "height": 70
        },
        "outputId": "d3d41949-0fab-45c7-b233-af6c0900d481"
      },
      "source": [
        "x = np.array([1,2,3], dtype=np.float64)\n",
        "print(\"Size \", x.size)\n",
        "print(\"Length \", x.itemsize)\n",
        "print(\"Total bytes \", x.nbytes)"
      ],
      "execution_count": 16,
      "outputs": [
        {
          "output_type": "stream",
          "text": [
            "Size  3\n",
            "Length  8\n",
            "Total bytes  24\n"
          ],
          "name": "stdout"
        }
      ]
    },
    {
      "cell_type": "markdown",
      "metadata": {
        "id": "rrkGeHeVWPj-",
        "colab_type": "text"
      },
      "source": [
        "Write a NumPy program to find common values between two arrays"
      ]
    },
    {
      "cell_type": "code",
      "metadata": {
        "id": "KcYdQZAyWMnG",
        "colab_type": "code",
        "colab": {
          "base_uri": "https://localhost:8080/",
          "height": 70
        },
        "outputId": "243c9b58-2c76-40a8-ce81-f228720b9edf"
      },
      "source": [
        "array1 = np.array([0, 10, 20, 40, 60])\n",
        "print(\"Array1: \",array1)\n",
        "array2 = [10, 30, 40]\n",
        "print(\"Array2: \",array2)\n",
        "print(np.intersect1d(array1, array2))\n"
      ],
      "execution_count": 17,
      "outputs": [
        {
          "output_type": "stream",
          "text": [
            "Array1:  [ 0 10 20 40 60]\n",
            "Array2:  [10, 30, 40]\n",
            "[10 40]\n"
          ],
          "name": "stdout"
        }
      ]
    },
    {
      "cell_type": "markdown",
      "metadata": {
        "id": "C7wkZtFLWX3p",
        "colab_type": "text"
      },
      "source": [
        "Write a NumPy program to get the unique elements of an array."
      ]
    },
    {
      "cell_type": "code",
      "metadata": {
        "id": "5pFm_XrLWUnu",
        "colab_type": "code",
        "colab": {
          "base_uri": "https://localhost:8080/",
          "height": 105
        },
        "outputId": "f79b438a-064d-4240-f256-9f7b249bb8d5"
      },
      "source": [
        "x = np.array([10, 10, 20, 20, 30, 30])\n",
        "print(x)\n",
        "print(np.unique(x))\n",
        "x = np.array([[1, 1], [2, 3]])\n",
        "print(x)\n",
        "print(np.unique(x))"
      ],
      "execution_count": 18,
      "outputs": [
        {
          "output_type": "stream",
          "text": [
            "[10 10 20 20 30 30]\n",
            "[10 20 30]\n",
            "[[1 1]\n",
            " [2 3]]\n",
            "[1 2 3]\n"
          ],
          "name": "stdout"
        }
      ]
    },
    {
      "cell_type": "markdown",
      "metadata": {
        "id": "8gvKaUNpWi-3",
        "colab_type": "text"
      },
      "source": [
        "Write a NumPy program to find the set difference of two arrays. The set difference will return the sorted, unique values in array1 that are not in array2."
      ]
    },
    {
      "cell_type": "code",
      "metadata": {
        "id": "TTfB1H-dWecY",
        "colab_type": "code",
        "colab": {
          "base_uri": "https://localhost:8080/",
          "height": 70
        },
        "outputId": "dc1d8782-d23a-46b0-bb95-1584c364edff"
      },
      "source": [
        "array1 = np.array([0, 10, 20, 40, 60, 80])\n",
        "print(\"Array1: \",array1)\n",
        "array2 = [10, 30, 40, 50, 70]\n",
        "print(\"Array2: \",array2)\n",
        "print(np.setdiff1d(array1, array2))\n"
      ],
      "execution_count": 19,
      "outputs": [
        {
          "output_type": "stream",
          "text": [
            "Array1:  [ 0 10 20 40 60 80]\n",
            "Array2:  [10, 30, 40, 50, 70]\n",
            "[ 0 20 60 80]\n"
          ],
          "name": "stdout"
        }
      ]
    },
    {
      "cell_type": "markdown",
      "metadata": {
        "id": "S2GbLDHIWqoh",
        "colab_type": "text"
      },
      "source": [
        "Write a NumPy program to find the set exclusive-or of two arrays. Set exclusive-or will return the sorted, unique values that are in only one (not both) of the input arrays."
      ]
    },
    {
      "cell_type": "code",
      "metadata": {
        "id": "EBOPo-OyWnuR",
        "colab_type": "code",
        "colab": {
          "base_uri": "https://localhost:8080/",
          "height": 87
        },
        "outputId": "a4201ff6-eb5f-4303-99ad-ae5d5112437f"
      },
      "source": [
        "array1 = np.array([0, 10, 20, 40, 60, 80])\n",
        "print(\"Array1: \",array1)\n",
        "array2 = [10, 30, 40, 50, 70]\n",
        "print(\"Array2: \",array2)\n",
        "print(\"Unique values that are in only one (not both) of the input arrays:\")\n",
        "print(np.setxor1d(array1, array2))"
      ],
      "execution_count": 20,
      "outputs": [
        {
          "output_type": "stream",
          "text": [
            "Array1:  [ 0 10 20 40 60 80]\n",
            "Array2:  [10, 30, 40, 50, 70]\n",
            "Unique values that are in only one (not both) of the input arrays:\n",
            "[ 0 20 30 50 60 70 80]\n"
          ],
          "name": "stdout"
        }
      ]
    }
  ]
}