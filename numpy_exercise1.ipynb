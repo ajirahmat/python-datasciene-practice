{
  "nbformat": 4,
  "nbformat_minor": 0,
  "metadata": {
    "colab": {
      "name": "numpy-exercise1.ipynb",
      "provenance": []
    },
    "kernelspec": {
      "name": "python3",
      "display_name": "Python 3"
    }
  },
  "cells": [
    {
      "cell_type": "markdown",
      "metadata": {
        "id": "AGcz1aglcOfj",
        "colab_type": "text"
      },
      "source": [
        "Write a NumPy program to get the numpy version and show numpy build configuration"
      ]
    },
    {
      "cell_type": "code",
      "metadata": {
        "id": "i8WgCVP8cLSk",
        "colab_type": "code",
        "colab": {}
      },
      "source": [
        "import pandas as pd\n",
        "import numpy as np"
      ],
      "execution_count": 0,
      "outputs": []
    },
    {
      "cell_type": "code",
      "metadata": {
        "id": "z-QW-BpacRi8",
        "colab_type": "code",
        "colab": {
          "base_uri": "https://localhost:8080/",
          "height": 514
        },
        "outputId": "7be7e5a1-2f54-4f31-b161-0453781654ab"
      },
      "source": [
        "print(np.__version__)\n",
        "print(np.show_config())"
      ],
      "execution_count": 2,
      "outputs": [
        {
          "output_type": "stream",
          "text": [
            "1.17.3\n",
            "blas_mkl_info:\n",
            "  NOT AVAILABLE\n",
            "blis_info:\n",
            "  NOT AVAILABLE\n",
            "openblas_info:\n",
            "    libraries = ['openblas', 'openblas']\n",
            "    library_dirs = ['/usr/local/lib']\n",
            "    language = c\n",
            "    define_macros = [('HAVE_CBLAS', None)]\n",
            "blas_opt_info:\n",
            "    libraries = ['openblas', 'openblas']\n",
            "    library_dirs = ['/usr/local/lib']\n",
            "    language = c\n",
            "    define_macros = [('HAVE_CBLAS', None)]\n",
            "lapack_mkl_info:\n",
            "  NOT AVAILABLE\n",
            "openblas_lapack_info:\n",
            "    libraries = ['openblas', 'openblas']\n",
            "    library_dirs = ['/usr/local/lib']\n",
            "    language = c\n",
            "    define_macros = [('HAVE_CBLAS', None)]\n",
            "lapack_opt_info:\n",
            "    libraries = ['openblas', 'openblas']\n",
            "    library_dirs = ['/usr/local/lib']\n",
            "    language = c\n",
            "    define_macros = [('HAVE_CBLAS', None)]\n",
            "None\n"
          ],
          "name": "stdout"
        }
      ]
    },
    {
      "cell_type": "markdown",
      "metadata": {
        "id": "UKAeCxQdcm17",
        "colab_type": "text"
      },
      "source": [
        "Write a NumPy program to test whether none of the elements of a given array is zero."
      ]
    },
    {
      "cell_type": "code",
      "metadata": {
        "id": "OExedtCsc1td",
        "colab_type": "code",
        "colab": {
          "base_uri": "https://localhost:8080/",
          "height": 87
        },
        "outputId": "d4edf961-a726-4040-837d-953a0a625223"
      },
      "source": [
        "x = np.array([1, 2, 3, 4])\n",
        "print(\"array is zero:\")\n",
        "print(np.all(x))\n",
        "x = np.array([0, 1, 2, 3])\n",
        "print(\"array is zero:\")\n",
        "print(np.all(x))"
      ],
      "execution_count": 3,
      "outputs": [
        {
          "output_type": "stream",
          "text": [
            "array is zero:\n",
            "True\n",
            "array is zero:\n",
            "False\n"
          ],
          "name": "stdout"
        }
      ]
    },
    {
      "cell_type": "markdown",
      "metadata": {
        "id": "lBNUCUVNdIe_",
        "colab_type": "text"
      },
      "source": [
        "Write a NumPy program to test if any of the elements of a given array is non-zero."
      ]
    },
    {
      "cell_type": "code",
      "metadata": {
        "id": "QIELTccJc2KF",
        "colab_type": "code",
        "colab": {
          "base_uri": "https://localhost:8080/",
          "height": 34
        },
        "outputId": "ca34ea4a-b66f-4643-c38b-f58168835889"
      },
      "source": [
        "print(np.any(x))"
      ],
      "execution_count": 4,
      "outputs": [
        {
          "output_type": "stream",
          "text": [
            "True\n"
          ],
          "name": "stdout"
        }
      ]
    },
    {
      "cell_type": "markdown",
      "metadata": {
        "id": "MUXdJododWZK",
        "colab_type": "text"
      },
      "source": [
        "Write a NumPy program to test element-wise for NaN of a given array."
      ]
    },
    {
      "cell_type": "code",
      "metadata": {
        "id": "STie0RjwdiMX",
        "colab_type": "code",
        "colab": {
          "base_uri": "https://localhost:8080/",
          "height": 87
        },
        "outputId": "5f681d10-7b95-467a-c64f-9ea3988ed3b2"
      },
      "source": [
        "a = np.array([ np.nan, 22, np.nan, np.inf])\n",
        "print(\"Test element-wise for NaN:\")\n",
        "print(np.isnan(a))"
      ],
      "execution_count": 5,
      "outputs": [
        {
          "output_type": "stream",
          "text": [
            "Original array\n",
            "[nan 22. nan inf]\n",
            "Test element-wise for NaN:\n",
            "[ True False  True False]\n"
          ],
          "name": "stdout"
        }
      ]
    },
    {
      "cell_type": "markdown",
      "metadata": {
        "id": "swQ9CPYjduIH",
        "colab_type": "text"
      },
      "source": [
        "Write a NumPy program to create a 3x3 identity matrix"
      ]
    },
    {
      "cell_type": "code",
      "metadata": {
        "id": "4CLgvQkOduix",
        "colab_type": "code",
        "colab": {
          "base_uri": "https://localhost:8080/",
          "height": 87
        },
        "outputId": "588b9d2b-ee77-4ff8-94f4-42532fd34595"
      },
      "source": [
        "array=np.identity(3)\n",
        "print('3x3 matrix:')\n",
        "print(array)"
      ],
      "execution_count": 6,
      "outputs": [
        {
          "output_type": "stream",
          "text": [
            "3x3 matrix:\n",
            "[[1. 0. 0.]\n",
            " [0. 1. 0.]\n",
            " [0. 0. 1.]]\n"
          ],
          "name": "stdout"
        }
      ]
    },
    {
      "cell_type": "markdown",
      "metadata": {
        "id": "X-eBbnWrd2gq",
        "colab_type": "text"
      },
      "source": [
        "Write a NumPy program to create an array of all the even integers from 200 to 850"
      ]
    },
    {
      "cell_type": "code",
      "metadata": {
        "id": "QL6SL5CSd5-d",
        "colab_type": "code",
        "colab": {
          "base_uri": "https://localhost:8080/",
          "height": 70
        },
        "outputId": "e6bec2cc-9288-4e95-8003-ff329f85563c"
      },
      "source": [
        "array=np.arange(200,850,24)\n",
        "print(\"Array of all the even integers from 200 to 850\")\n",
        "print(array) "
      ],
      "execution_count": 7,
      "outputs": [
        {
          "output_type": "stream",
          "text": [
            "Array of all the even integers from 30 to 70\n",
            "[200 224 248 272 296 320 344 368 392 416 440 464 488 512 536 560 584 608\n",
            " 632 656 680 704 728 752 776 800 824 848]\n"
          ],
          "name": "stdout"
        }
      ]
    },
    {
      "cell_type": "markdown",
      "metadata": {
        "id": "uEHudC2aeTaN",
        "colab_type": "text"
      },
      "source": [
        "Write a NumPy program to create an array of all the even integers from 30 to 70."
      ]
    },
    {
      "cell_type": "code",
      "metadata": {
        "id": "yY-Yu4steHEl",
        "colab_type": "code",
        "colab": {
          "base_uri": "https://localhost:8080/",
          "height": 123
        },
        "outputId": "8a27423e-557c-4298-9c01-9c3a4db00514"
      },
      "source": [
        "array=np.zeros(10)\n",
        "print(\"An array of 10 zeros:\")\n",
        "print(array)\n",
        "array=np.ones(10)\n",
        "print(\"An array of 10 ones:\")\n",
        "print(array)\n",
        "array=np.ones(10)*5\n",
        "print(\"An array of 10 fives:\")\n",
        "print(array)"
      ],
      "execution_count": 8,
      "outputs": [
        {
          "output_type": "stream",
          "text": [
            "An array of 10 zeros:\n",
            "[0. 0. 0. 0. 0. 0. 0. 0. 0. 0.]\n",
            "An array of 10 ones:\n",
            "[1. 1. 1. 1. 1. 1. 1. 1. 1. 1.]\n",
            "An array of 10 fives:\n",
            "[5. 5. 5. 5. 5. 5. 5. 5. 5. 5.]\n"
          ],
          "name": "stdout"
        }
      ]
    },
    {
      "cell_type": "markdown",
      "metadata": {
        "id": "U2hlI8rQebH9",
        "colab_type": "text"
      },
      "source": [
        ""
      ]
    },
    {
      "cell_type": "code",
      "metadata": {
        "id": "CnUR2yjZeaq7",
        "colab_type": "code",
        "colab": {
          "base_uri": "https://localhost:8080/",
          "height": 52
        },
        "outputId": "a3a85733-0b08-4d83-93c9-7049b64b170e"
      },
      "source": [
        "rand_num = np.random.normal(0,1,2)\n",
        "print(\"Random number between 0 and 1:\")\n",
        "print(rand_num)"
      ],
      "execution_count": 10,
      "outputs": [
        {
          "output_type": "stream",
          "text": [
            "Random number between 0 and 1:\n",
            "[-0.78744324 -0.59493324]\n"
          ],
          "name": "stdout"
        }
      ]
    },
    {
      "cell_type": "markdown",
      "metadata": {
        "id": "i78fzfNOesZf",
        "colab_type": "text"
      },
      "source": [
        "Write a NumPy program to create a vector with values ​​ranging from 15 to 55 and print all values ​​except the first and last."
      ]
    },
    {
      "cell_type": "code",
      "metadata": {
        "id": "4I0HXjo0efpK",
        "colab_type": "code",
        "colab": {
          "base_uri": "https://localhost:8080/",
          "height": 34
        },
        "outputId": "e8a2e6c2-142b-47cf-9313-8b4f6d041164"
      },
      "source": [
        "vektor = np.arange(15,55)\n",
        "print(vektor[1:15])"
      ],
      "execution_count": 11,
      "outputs": [
        {
          "output_type": "stream",
          "text": [
            "[16 17 18 19 20 21 22 23 24 25 26 27 28 29]\n"
          ],
          "name": "stdout"
        }
      ]
    },
    {
      "cell_type": "code",
      "metadata": {
        "id": "VtwbfCdneyiN",
        "colab_type": "code",
        "colab": {}
      },
      "source": [
        ""
      ],
      "execution_count": 0,
      "outputs": []
    }
  ]
}