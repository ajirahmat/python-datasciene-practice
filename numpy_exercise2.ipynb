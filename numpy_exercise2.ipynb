{
  "nbformat": 4,
  "nbformat_minor": 0,
  "metadata": {
    "colab": {
      "name": "numpy-exercise2.ipynb",
      "provenance": []
    },
    "kernelspec": {
      "name": "python3",
      "display_name": "Python 3"
    }
  },
  "cells": [
    {
      "cell_type": "markdown",
      "metadata": {
        "id": "AGcz1aglcOfj",
        "colab_type": "text"
      },
      "source": [
        "Write a NumPy program to get the numpy version and show numpy build configuration"
      ]
    },
    {
      "cell_type": "code",
      "metadata": {
        "id": "i8WgCVP8cLSk",
        "colab_type": "code",
        "colab": {}
      },
      "source": [
        "import pandas as pd\n",
        "import numpy as np"
      ],
      "execution_count": 0,
      "outputs": []
    },
    {
      "cell_type": "markdown",
      "metadata": {
        "id": "UWG6t3iQBscI",
        "colab_type": "text"
      },
      "source": [
        "Write a NumPy program to create a 3X4 array using and iterate over it."
      ]
    },
    {
      "cell_type": "code",
      "metadata": {
        "id": "lEeJWzZCBqdP",
        "colab_type": "code",
        "colab": {
          "base_uri": "https://localhost:8080/",
          "height": 34
        },
        "outputId": "85264ebe-bec6-44a8-f278-3b0635d73427"
      },
      "source": [
        "a = np.arange(10,22)\n",
        "a.reshape((3, 4))\n",
        "for x in np.nditer(a):\n",
        "  print(x,end=\" \")"
      ],
      "execution_count": 2,
      "outputs": [
        {
          "output_type": "stream",
          "text": [
            "10 11 12 13 14 15 16 17 18 19 20 21 "
          ],
          "name": "stdout"
        }
      ]
    },
    {
      "cell_type": "markdown",
      "metadata": {
        "id": "Ltm30wZEB89G",
        "colab_type": "text"
      },
      "source": [
        "Write a NumPy program to create a vector of length 10 with values ​​evenly distributed between 5 and 50."
      ]
    },
    {
      "cell_type": "code",
      "metadata": {
        "id": "GwFgOTKAB4QZ",
        "colab_type": "code",
        "colab": {
          "base_uri": "https://localhost:8080/",
          "height": 34
        },
        "outputId": "e9f5d5b8-74d2-4ff2-aa40-1f52f490f344"
      },
      "source": [
        "v = np.linspace(10, 49, 5)\n",
        "v"
      ],
      "execution_count": 3,
      "outputs": [
        {
          "output_type": "execute_result",
          "data": {
            "text/plain": [
              "array([10.  , 19.75, 29.5 , 39.25, 49.  ])"
            ]
          },
          "metadata": {
            "tags": []
          },
          "execution_count": 3
        }
      ]
    },
    {
      "cell_type": "markdown",
      "metadata": {
        "id": "Y-Ep8zU_C-oQ",
        "colab_type": "text"
      },
      "source": [
        "Write a NumPy program to create a vector with values ​​from 0 to 20 and change the sign of the numbers in the range from 9 to 15."
      ]
    },
    {
      "cell_type": "code",
      "metadata": {
        "id": "nrtYuihjCCCS",
        "colab_type": "code",
        "colab": {
          "base_uri": "https://localhost:8080/",
          "height": 70
        },
        "outputId": "f346f014-1bc1-44fd-b6ca-e846218c17c9"
      },
      "source": [
        "x = np.arange(20)\n",
        "print(x)\n",
        "x[(x >= 9) & (x <= 15)] *= -1\n",
        "print(x)"
      ],
      "execution_count": 4,
      "outputs": [
        {
          "output_type": "stream",
          "text": [
            "[ 0  1  2  3  4  5  6  7  8  9 10 11 12 13 14 15 16 17 18 19]\n",
            "[  0   1   2   3   4   5   6   7   8  -9 -10 -11 -12 -13 -14 -15  16  17\n",
            "  18  19]\n"
          ],
          "name": "stdout"
        }
      ]
    },
    {
      "cell_type": "markdown",
      "metadata": {
        "id": "9ROZ3R--DhZr",
        "colab_type": "text"
      },
      "source": [
        "Write a NumPy program to create a vector of length 5 filled with arbitrary integers from 0 to 10."
      ]
    },
    {
      "cell_type": "code",
      "metadata": {
        "id": "H-yWOJBnDJbz",
        "colab_type": "code",
        "colab": {
          "base_uri": "https://localhost:8080/",
          "height": 34
        },
        "outputId": "0bccb0f0-9fea-47e7-e580-510b4fb463b4"
      },
      "source": [
        "x = np.random.randint(0, 11, 5)\n",
        "print(x)"
      ],
      "execution_count": 5,
      "outputs": [
        {
          "output_type": "stream",
          "text": [
            "[ 1 10  9  1  1]\n"
          ],
          "name": "stdout"
        }
      ]
    },
    {
      "cell_type": "markdown",
      "metadata": {
        "id": "Odpl-dT8EJvI",
        "colab_type": "text"
      },
      "source": [
        "Write a NumPy program to multiply the values of two given vectors"
      ]
    },
    {
      "cell_type": "code",
      "metadata": {
        "id": "9cpLsu0LDo59",
        "colab_type": "code",
        "colab": {
          "base_uri": "https://localhost:8080/",
          "height": 70
        },
        "outputId": "f4d3a746-39c7-4862-9b93-3ec26d86b687"
      },
      "source": [
        "x = np.array([1, 8, 3, 5])\n",
        "print(x)\n",
        "y= np.random.randint(0, 11, 4)\n",
        "print(y)\n",
        "result = x * y\n",
        "print(result)"
      ],
      "execution_count": 6,
      "outputs": [
        {
          "output_type": "stream",
          "text": [
            "[1 8 3 5]\n",
            "[1 1 3 6]\n",
            "[ 1  8  9 30]\n"
          ],
          "name": "stdout"
        }
      ]
    },
    {
      "cell_type": "markdown",
      "metadata": {
        "id": "FiutIvrsEqmc",
        "colab_type": "text"
      },
      "source": [
        "Write a NumPy program to create a 3x4 matrix filled with values from 10 to 21"
      ]
    },
    {
      "cell_type": "code",
      "metadata": {
        "id": "E-X72NreEjmU",
        "colab_type": "code",
        "colab": {
          "base_uri": "https://localhost:8080/",
          "height": 70
        },
        "outputId": "791a5a57-aa75-42ba-d330-fdb2fd8713ae"
      },
      "source": [
        "m= np.arange(10,22).reshape((3, 4))\n",
        "print(m)"
      ],
      "execution_count": 7,
      "outputs": [
        {
          "output_type": "stream",
          "text": [
            "[[10 11 12 13]\n",
            " [14 15 16 17]\n",
            " [18 19 20 21]]\n"
          ],
          "name": "stdout"
        }
      ]
    },
    {
      "cell_type": "markdown",
      "metadata": {
        "id": "UWsTU07QGq4S",
        "colab_type": "text"
      },
      "source": [
        "Write a NumPy program to find the number of rows and columns of a given matrix"
      ]
    },
    {
      "cell_type": "code",
      "metadata": {
        "id": "0WX2j3djEv0g",
        "colab_type": "code",
        "colab": {
          "base_uri": "https://localhost:8080/",
          "height": 87
        },
        "outputId": "c23a0394-ec23-4633-a433-9b1b470b8d02"
      },
      "source": [
        "m= np.arange(10,22).reshape((3, 4))\n",
        "print(m)\n",
        "print(m.shape)"
      ],
      "execution_count": 8,
      "outputs": [
        {
          "output_type": "stream",
          "text": [
            "[[10 11 12 13]\n",
            " [14 15 16 17]\n",
            " [18 19 20 21]]\n",
            "(3, 4)\n"
          ],
          "name": "stdout"
        }
      ]
    },
    {
      "cell_type": "markdown",
      "metadata": {
        "id": "usCwSYdwG2yM",
        "colab_type": "text"
      },
      "source": [
        "Write a NumPy program to create a 4x4 identity matrix, i.e. diagonal elements are 1, the rest are 0"
      ]
    },
    {
      "cell_type": "code",
      "metadata": {
        "id": "x4FSDx32GyZg",
        "colab_type": "code",
        "colab": {
          "base_uri": "https://localhost:8080/",
          "height": 87
        },
        "outputId": "9883bc7e-d15c-4a05-bc49-8e67eebe4af8"
      },
      "source": [
        "x = np.eye(4)\n",
        "print(x)"
      ],
      "execution_count": 11,
      "outputs": [
        {
          "output_type": "stream",
          "text": [
            "[[1. 0. 0. 0.]\n",
            " [0. 1. 0. 0.]\n",
            " [0. 0. 1. 0.]\n",
            " [0. 0. 0. 1.]]\n"
          ],
          "name": "stdout"
        }
      ]
    },
    {
      "cell_type": "markdown",
      "metadata": {
        "id": "bBJcMDXwHHTm",
        "colab_type": "text"
      },
      "source": [
        "Write a NumPy program to create a 10x10 matrix, in which the elements on the borders will be equal to 1, and inside 0."
      ]
    },
    {
      "cell_type": "code",
      "metadata": {
        "id": "GTxOOd_nG7Yi",
        "colab_type": "code",
        "colab": {
          "base_uri": "https://localhost:8080/",
          "height": 194
        },
        "outputId": "8678bc15-76e6-443d-9aca-e497211cde46"
      },
      "source": [
        "x = np.ones((10, 10))\n",
        "x[1:-1, 1:-1] = 0\n",
        "print(x)"
      ],
      "execution_count": 12,
      "outputs": [
        {
          "output_type": "stream",
          "text": [
            "[[1. 1. 1. 1. 1. 1. 1. 1. 1. 1.]\n",
            " [1. 0. 0. 0. 0. 0. 0. 0. 0. 1.]\n",
            " [1. 0. 0. 0. 0. 0. 0. 0. 0. 1.]\n",
            " [1. 0. 0. 0. 0. 0. 0. 0. 0. 1.]\n",
            " [1. 0. 0. 0. 0. 0. 0. 0. 0. 1.]\n",
            " [1. 0. 0. 0. 0. 0. 0. 0. 0. 1.]\n",
            " [1. 0. 0. 0. 0. 0. 0. 0. 0. 1.]\n",
            " [1. 0. 0. 0. 0. 0. 0. 0. 0. 1.]\n",
            " [1. 0. 0. 0. 0. 0. 0. 0. 0. 1.]\n",
            " [1. 1. 1. 1. 1. 1. 1. 1. 1. 1.]]\n"
          ],
          "name": "stdout"
        }
      ]
    },
    {
      "cell_type": "markdown",
      "metadata": {
        "id": "6BkNdxB_HREW",
        "colab_type": "text"
      },
      "source": [
        "Write a NumPy program to create a 5x5 zero matrix with elements on the main diagonal equal to 1, 2, 3, 4, 5"
      ]
    },
    {
      "cell_type": "code",
      "metadata": {
        "id": "pTnwk6d2HOPl",
        "colab_type": "code",
        "colab": {
          "base_uri": "https://localhost:8080/",
          "height": 105
        },
        "outputId": "1fc44f91-9c66-40c2-9413-916619599e62"
      },
      "source": [
        "x = np.diag([1, 2, 3, 4, 5])\n",
        "print(x)"
      ],
      "execution_count": 13,
      "outputs": [
        {
          "output_type": "stream",
          "text": [
            "[[1 0 0 0 0]\n",
            " [0 2 0 0 0]\n",
            " [0 0 3 0 0]\n",
            " [0 0 0 4 0]\n",
            " [0 0 0 0 5]]\n"
          ],
          "name": "stdout"
        }
      ]
    },
    {
      "cell_type": "code",
      "metadata": {
        "id": "vzgubYMUHUoq",
        "colab_type": "code",
        "colab": {}
      },
      "source": [
        ""
      ],
      "execution_count": 0,
      "outputs": []
    }
  ]
}