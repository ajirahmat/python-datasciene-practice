{
  "nbformat": 4,
  "nbformat_minor": 0,
  "metadata": {
    "colab": {
      "name": "numpy-exercise3.ipynb",
      "provenance": []
    },
    "kernelspec": {
      "name": "python3",
      "display_name": "Python 3"
    }
  },
  "cells": [
    {
      "cell_type": "markdown",
      "metadata": {
        "id": "AGcz1aglcOfj",
        "colab_type": "text"
      },
      "source": [
        "Write a NumPy program to get the numpy version and show numpy build configuration"
      ]
    },
    {
      "cell_type": "code",
      "metadata": {
        "id": "i8WgCVP8cLSk",
        "colab_type": "code",
        "colab": {}
      },
      "source": [
        "import pandas as pd\n",
        "import numpy as np"
      ],
      "execution_count": 0,
      "outputs": []
    },
    {
      "cell_type": "markdown",
      "metadata": {
        "id": "ciwr59ToIu9L",
        "colab_type": "text"
      },
      "source": [
        "Write a NumPy program to create an 4x4 matrix in which 0 and 1 are staggered, with zeros on the main diagonal"
      ]
    },
    {
      "cell_type": "code",
      "metadata": {
        "id": "ad2BpZWOI8cH",
        "colab_type": "code",
        "colab": {
          "base_uri": "https://localhost:8080/",
          "height": 87
        },
        "outputId": "bc3ed94c-6050-43b6-ce27-2f4ddc9d27cb"
      },
      "source": [
        "x = np.zeros((4, 4))\n",
        "x[::2, 1::2] = 1\n",
        "x[1::2, ::2] = 1\n",
        "print(x)"
      ],
      "execution_count": 2,
      "outputs": [
        {
          "output_type": "stream",
          "text": [
            "[[0. 1. 0. 1.]\n",
            " [1. 0. 1. 0.]\n",
            " [0. 1. 0. 1.]\n",
            " [1. 0. 1. 0.]]\n"
          ],
          "name": "stdout"
        }
      ]
    },
    {
      "cell_type": "markdown",
      "metadata": {
        "id": "NEWHyVDVI_Mw",
        "colab_type": "text"
      },
      "source": [
        "Write a NumPy program to create a 3x3x3 array filled with arbitrary values"
      ]
    },
    {
      "cell_type": "code",
      "metadata": {
        "id": "JY63onINI-cA",
        "colab_type": "code",
        "colab": {
          "base_uri": "https://localhost:8080/",
          "height": 212
        },
        "outputId": "2dea6c69-8b33-4a64-eef1-459ad5f191c8"
      },
      "source": [
        "x = np.random.random((3, 3, 3))\n",
        "print(x)"
      ],
      "execution_count": 3,
      "outputs": [
        {
          "output_type": "stream",
          "text": [
            "[[[0.93380157 0.99511231 0.44661874]\n",
            "  [0.17768482 0.9152183  0.27564003]\n",
            "  [0.68457106 0.15264474 0.09443995]]\n",
            "\n",
            " [[0.28954619 0.0490385  0.97537943]\n",
            "  [0.34927664 0.36416981 0.98320656]\n",
            "  [0.84737072 0.07728036 0.4753952 ]]\n",
            "\n",
            " [[0.67566018 0.34046116 0.32752936]\n",
            "  [0.09251259 0.32094122 0.56712811]\n",
            "  [0.94792253 0.77790125 0.27051734]]]\n"
          ],
          "name": "stdout"
        }
      ]
    },
    {
      "cell_type": "markdown",
      "metadata": {
        "id": "rOSl5zkdJF6c",
        "colab_type": "text"
      },
      "source": [
        "Write a NumPy program to compute sum of all elements, sum of each column and sum of each row of an given array."
      ]
    },
    {
      "cell_type": "code",
      "metadata": {
        "id": "0k7LEZtHJDOJ",
        "colab_type": "code",
        "colab": {
          "base_uri": "https://localhost:8080/",
          "height": 105
        },
        "outputId": "1c97c51e-7c1f-460c-e0ed-9096b7eb704c"
      },
      "source": [
        "x = np.array([[0,1],[2,3]])\n",
        "print(x)\n",
        "print(np.sum(x))\n",
        "print(np.sum(x, axis=0))\n",
        "print(np.sum(x, axis=1))"
      ],
      "execution_count": 4,
      "outputs": [
        {
          "output_type": "stream",
          "text": [
            "[[0 1]\n",
            " [2 3]]\n",
            "6\n",
            "[2 4]\n",
            "[1 5]\n"
          ],
          "name": "stdout"
        }
      ]
    },
    {
      "cell_type": "markdown",
      "metadata": {
        "id": "tWQrPFXYJk0X",
        "colab_type": "text"
      },
      "source": [
        " Write a NumPy program to compute the inner product of two given vectors"
      ]
    },
    {
      "cell_type": "code",
      "metadata": {
        "id": "ID_ohDmWJQxy",
        "colab_type": "code",
        "colab": {
          "base_uri": "https://localhost:8080/",
          "height": 70
        },
        "outputId": "7f45bd6d-1a92-4981-f337-2ff596e86057"
      },
      "source": [
        "x = np.array([42, 52])\n",
        "y = np.array([17, 20])\n",
        "print(x)\n",
        "print(y)\n",
        "print(np.dot(x, y))"
      ],
      "execution_count": 5,
      "outputs": [
        {
          "output_type": "stream",
          "text": [
            "[42 52]\n",
            "[17 20]\n",
            "1754\n"
          ],
          "name": "stdout"
        }
      ]
    },
    {
      "cell_type": "markdown",
      "metadata": {
        "id": "-HTjXreRJztL",
        "colab_type": "text"
      },
      "source": [
        "Write a NumPy program to add a vector to each row of a given matrix"
      ]
    },
    {
      "cell_type": "code",
      "metadata": {
        "id": "bWoMqbeOJxKF",
        "colab_type": "code",
        "colab": {
          "base_uri": "https://localhost:8080/",
          "height": 176
        },
        "outputId": "b5a28a75-228d-429e-8af2-ada0228c468c"
      },
      "source": [
        "m = np.array([[1,2,3], [4,5,6], [7,8,9], [10, 11, 12]])\n",
        "v = np.array([1, 1, 0])\n",
        "print(v)\n",
        "print(m)\n",
        "result = np.empty_like(m) \n",
        "for i in range(4):\n",
        "  result[i, :] = m[i, :] + v\n",
        "print(result)"
      ],
      "execution_count": 6,
      "outputs": [
        {
          "output_type": "stream",
          "text": [
            "[1 1 0]\n",
            "[[ 1  2  3]\n",
            " [ 4  5  6]\n",
            " [ 7  8  9]\n",
            " [10 11 12]]\n",
            "[[ 2  3  3]\n",
            " [ 5  6  6]\n",
            " [ 8  9  9]\n",
            " [11 12 12]]\n"
          ],
          "name": "stdout"
        }
      ]
    },
    {
      "cell_type": "markdown",
      "metadata": {
        "id": "zZG_MZpoJ_8R",
        "colab_type": "text"
      },
      "source": [
        "Write a NumPy program to save a given array to a binary file"
      ]
    },
    {
      "cell_type": "code",
      "metadata": {
        "id": "1_7MkbdTKBSk",
        "colab_type": "code",
        "colab": {
          "base_uri": "https://localhost:8080/",
          "height": 34
        },
        "outputId": "52f20450-aca0-4177-80aa-1c208d574ce5"
      },
      "source": [
        "import os\n",
        "a = np.arange(20)\n",
        "np.save('temparra.npy', a)\n",
        "if os.path.exists('temparra.npy'):\n",
        "    x2 = np.load('temparra.npy')\n",
        "    print(np.array_equal(a, x2))"
      ],
      "execution_count": 8,
      "outputs": [
        {
          "output_type": "stream",
          "text": [
            "True\n"
          ],
          "name": "stdout"
        }
      ]
    },
    {
      "cell_type": "markdown",
      "metadata": {
        "id": "wz3XiDNaKOzK",
        "colab_type": "text"
      },
      "source": [
        "Write a NumPy program to save two given arrays into a single file in compressed format (.npz format) and load it"
      ]
    },
    {
      "cell_type": "code",
      "metadata": {
        "id": "DYJyWo2tKG81",
        "colab_type": "code",
        "colab": {
          "base_uri": "https://localhost:8080/",
          "height": 87
        },
        "outputId": "e6863a03-b212-41db-c242-2a674489c57d"
      },
      "source": [
        "import os\n",
        "x = np.arange(10)\n",
        "y = np.arange(11, 20)\n",
        "print(x)\n",
        "print(y)\n",
        "np.savez('temparra.npz', x=x, y=y)\n",
        "with np.load('temparra.npz') as data:\n",
        "    x2 = data['x']\n",
        "    y2 = data['y']\n",
        "    print(x2)\n",
        "    print(y2)"
      ],
      "execution_count": 9,
      "outputs": [
        {
          "output_type": "stream",
          "text": [
            "[0 1 2 3 4 5 6 7 8 9]\n",
            "[11 12 13 14 15 16 17 18 19]\n",
            "[0 1 2 3 4 5 6 7 8 9]\n",
            "[11 12 13 14 15 16 17 18 19]\n"
          ],
          "name": "stdout"
        }
      ]
    },
    {
      "cell_type": "markdown",
      "metadata": {
        "id": "a78u3jEJKXTY",
        "colab_type": "text"
      },
      "source": [
        "Write a NumPy program to save a given array to a text file and load it"
      ]
    },
    {
      "cell_type": "code",
      "metadata": {
        "id": "XpjP1E3HKTNl",
        "colab_type": "code",
        "colab": {
          "base_uri": "https://localhost:8080/",
          "height": 158
        },
        "outputId": "b42271ac-97f5-4caf-882d-19907bfb4371"
      },
      "source": [
        "import os\n",
        "x = np.arange(12).reshape(4, 3)\n",
        "print(x)\n",
        "header = 'col1 col2 col3'\n",
        "np.savetxt('temp.txt', x, fmt=\"%d\", header=header) \n",
        "result = np.loadtxt('temp.txt')\n",
        "print(result)"
      ],
      "execution_count": 10,
      "outputs": [
        {
          "output_type": "stream",
          "text": [
            "[[ 0  1  2]\n",
            " [ 3  4  5]\n",
            " [ 6  7  8]\n",
            " [ 9 10 11]]\n",
            "[[ 0.  1.  2.]\n",
            " [ 3.  4.  5.]\n",
            " [ 6.  7.  8.]\n",
            " [ 9. 10. 11.]]\n"
          ],
          "name": "stdout"
        }
      ]
    }
  ]
}